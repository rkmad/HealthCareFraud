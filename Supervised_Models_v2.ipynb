{
 "cells": [
  {
   "cell_type": "markdown",
   "id": "industrial-pillow",
   "metadata": {
    "toc": true
   },
   "source": [
    "<h1>Table of Contents<span class=\"tocSkip\"></span></h1>\n",
    "<div class=\"toc\"><ul class=\"toc-item\"><li><span><a href=\"#KNN-Model\" data-toc-modified-id=\"KNN-Model-1\"><span class=\"toc-item-num\">1&nbsp;&nbsp;</span>KNN Model</a></span></li><li><span><a href=\"#XGBoost-Model\" data-toc-modified-id=\"XGBoost-Model-2\"><span class=\"toc-item-num\">2&nbsp;&nbsp;</span>XGBoost Model</a></span></li><li><span><a href=\"#XGBoost-Random-Forest-Classifier\" data-toc-modified-id=\"XGBoost-Random-Forest-Classifier-3\"><span class=\"toc-item-num\">3&nbsp;&nbsp;</span>XGBoost Random Forest Classifier</a></span></li><li><span><a href=\"#XGBoost-Feature-Selection\" data-toc-modified-id=\"XGBoost-Feature-Selection-4\"><span class=\"toc-item-num\">4&nbsp;&nbsp;</span>XGBoost Feature Selection</a></span></li><li><span><a href=\"#Model-Evaluation-with-ROC-AUC\" data-toc-modified-id=\"Model-Evaluation-with-ROC-AUC-5\"><span class=\"toc-item-num\">5&nbsp;&nbsp;</span>Model Evaluation with ROC AUC</a></span></li><li><span><a href=\"#Random-Forest-Classifier\" data-toc-modified-id=\"Random-Forest-Classifier-6\"><span class=\"toc-item-num\">6&nbsp;&nbsp;</span>Random Forest Classifier</a></span></li><li><span><a href=\"#Gradient-Boosting-Classifier\" data-toc-modified-id=\"Gradient-Boosting-Classifier-7\"><span class=\"toc-item-num\">7&nbsp;&nbsp;</span>Gradient Boosting Classifier</a></span><ul class=\"toc-item\"><li><span><a href=\"#Gradient-Boosting-Classifier-using-PCA\" data-toc-modified-id=\"Gradient-Boosting-Classifier-using-PCA-7.1\"><span class=\"toc-item-num\">7.1&nbsp;&nbsp;</span>Gradient Boosting Classifier using PCA</a></span></li></ul></li><li><span><a href=\"#Support-Vector-Machine\" data-toc-modified-id=\"Support-Vector-Machine-8\"><span class=\"toc-item-num\">8&nbsp;&nbsp;</span>Support Vector Machine</a></span></li></ul></div>"
   ]
  },
  {
   "cell_type": "code",
   "execution_count": 1,
   "id": "indie-essex",
   "metadata": {
    "ExecuteTime": {
     "end_time": "2021-03-11T15:57:59.393943Z",
     "start_time": "2021-03-11T15:57:33.463288Z"
    }
   },
   "outputs": [
    {
     "data": {
      "text/html": [
       "<style>.container { width:100% !important; }</style>"
      ],
      "text/plain": [
       "<IPython.core.display.HTML object>"
      ]
     },
     "metadata": {},
     "output_type": "display_data"
    }
   ],
   "source": [
    "import pandas as pd\n",
    "import numpy as np\n",
    "import seaborn as sns\n",
    "import matplotlib.pyplot as plt\n",
    "import time\n",
    "\n",
    "%matplotlib inline\n",
    "plt.rcParams['figure.figsize'] = (20, 10)\n",
    "sns.set(style = \"whitegrid\")\n",
    "pd.set_option('display.max_columns', 500)\n",
    "pd.set_option('display.max_rows', 500)\n",
    "\n",
    "import random\n",
    "import statsmodels.api as sm\n",
    "import sklearn.model_selection as ms\n",
    "from xgboost import XGBClassifier, XGBRFClassifier\n",
    "from sklearn.linear_model import LinearRegression, Ridge, RidgeCV, Lasso, LassoCV, ElasticNet\n",
    "from sklearn.ensemble import RandomForestClassifier, GradientBoostingClassifier\n",
    "from sklearn.model_selection import train_test_split, GridSearchCV, KFold, cross_val_score, StratifiedKFold\n",
    "from sklearn.preprocessing import OrdinalEncoder, OneHotEncoder, StandardScaler,LabelEncoder\n",
    "from sklearn import neighbors\n",
    "from sklearn.metrics import mean_squared_log_error, mean_squared_error, confusion_matrix, roc_auc_score, f1_score, plot_roc_curve, roc_auc_score, roc_curve, RocCurveDisplay, auc\n",
    "from sklearn.tree import DecisionTreeRegressor, export_graphviz\n",
    "from sklearn.decomposition import PCA\n",
    "from sklearn.manifold import TSNE\n",
    "from sklearn import svm\n",
    "#from PlotFunctions import plot_model\n",
    "from mpl_toolkits.mplot3d import Axes3D\n",
    "\n",
    "from IPython.core.display import display, HTML\n",
    "display(HTML(\"<style>.container { width:100% !important; }</style>\"))"
   ]
  },
  {
   "cell_type": "code",
   "execution_count": 2,
   "id": "taken-tribune",
   "metadata": {
    "ExecuteTime": {
     "end_time": "2021-03-11T16:00:05.552796Z",
     "start_time": "2021-03-11T16:00:05.545582Z"
    }
   },
   "outputs": [],
   "source": [
    "size=15\n",
    "params = {'legend.fontsize': 'large',\n",
    "          'figure.figsize': (20,8),\n",
    "          'axes.labelsize': size*1.1,\n",
    "          'axes.titlesize': size*2,\n",
    "          'xtick.labelsize': size*1.1,\n",
    "          'ytick.labelsize': size*1.1,\n",
    "          'axes.titlepad': 25,\n",
    "          'figure.titlesize': size*2,\n",
    "          'legend.fontsize': size,\n",
    "            'legend.title_fontsize': size*1.1\n",
    "         }\n",
    "\n",
    "plt.rcParams.update(params)\n",
    "\n",
    "sns.set_style(\"whitegrid\")"
   ]
  },
  {
   "cell_type": "code",
   "execution_count": 68,
   "id": "physical-omega",
   "metadata": {
    "ExecuteTime": {
     "end_time": "2021-03-11T18:18:56.523726Z",
     "start_time": "2021-03-11T18:18:56.514149Z"
    }
   },
   "outputs": [],
   "source": [
    "# load binaries\n",
    "# trIeng_df_dum = pd.read_pickle(\"./data/trIeng_df_dum.pkl\")\n",
    "# trIeng_df_undum = pd.read_pickle(\"./data/trIeng_df_undum.pkl\")\n",
    "trIeng_df=pd.read_pickle(\"../data/trIeng_df.pkl\")"
   ]
  },
  {
   "cell_type": "code",
   "execution_count": 69,
   "id": "monetary-scoop",
   "metadata": {
    "ExecuteTime": {
     "end_time": "2021-03-11T18:18:58.627448Z",
     "start_time": "2021-03-11T18:18:58.611357Z"
    },
    "run_control": {
     "marked": true
    }
   },
   "outputs": [],
   "source": [
    "#assign predictor and target variables\n",
    "\n",
    "y= trIeng_df['PotentialFraud']\n",
    "X= trIeng_df.drop('PotentialFraud', axis=1)\n",
    "\n",
    "X_train, X_test, y_train, y_test = train_test_split(X, y, test_size = 0.2, random_state = 0, stratify = y)"
   ]
  },
  {
   "cell_type": "code",
   "execution_count": 70,
   "id": "consecutive-detection",
   "metadata": {
    "ExecuteTime": {
     "end_time": "2021-03-11T18:19:00.545123Z",
     "start_time": "2021-03-11T18:19:00.533878Z"
    }
   },
   "outputs": [
    {
     "data": {
      "text/plain": [
       "numBene                                 0\n",
       "numClaim                                0\n",
       "InscClaimAmtReimbursed_sum              0\n",
       "County                                  0\n",
       "fraction_died                           0\n",
       "MFgender_ratio                          0\n",
       "fraction_not_white                      0\n",
       "InscClaimAmtReimbursed_mean             0\n",
       "InscClaimAmtReimbursed_mad              0\n",
       "ReimbPerDayAdmit_mean                   0\n",
       "ReimbPerDayAdmit_mad                    0\n",
       "ClaimStartDt_mean                       0\n",
       "ClaimStartDt_mad                        0\n",
       "AdmissionDt_mean                        0\n",
       "AdmissionDt_mad                         0\n",
       "RenalDiseaseIndicator_mean              0\n",
       "NoOfMonths_PartACov_mean                0\n",
       "NoOfMonths_PartBCov_mean                0\n",
       "ChronicCond_Alzheimer_mean              0\n",
       "ChronicCond_Heartfailure_mean           0\n",
       "ChronicCond_KidneyDisease_mean          0\n",
       "ChronicCond_Cancer_mean                 0\n",
       "ChronicCond_ObstrPulmonary_mean         0\n",
       "ChronicCond_Depression_mean             0\n",
       "ChronicCond_Diabetes_mean               0\n",
       "ChronicCond_IschemicHeart_mean          0\n",
       "ChronicCond_Osteoporasis_mean           0\n",
       "ChronicCond_rheumatoidarthritis_mean    0\n",
       "ChronicCond_stroke_mean                 0\n",
       "IPAnnualReimbursementAmt_mean           0\n",
       "IPAnnualReimbursementAmt_mad            0\n",
       "IPAnnualDeductibleAmt_mean              0\n",
       "IPAnnualDeductibleAmt_mad               0\n",
       "numChronic_mean                         0\n",
       "numChronic_mad                          0\n",
       "Age_mean                                0\n",
       "Age_mad                                 0\n",
       "ClaimDuration_mean                      0\n",
       "ClaimDuration_mad                       0\n",
       "AdmitDays_mean                          0\n",
       "AdmitDays_mad                           0\n",
       "numPhysicians_mean                      0\n",
       "numPhysicians_mad                       0\n",
       "numDiagCodes_mean                       0\n",
       "numDiagCodes_mad                        0\n",
       "numProcCodes_mean                       0\n",
       "numProcCodes_mad                        0\n",
       "ClmAdmitDiagnosisCode_uniq              0\n",
       "DiagnosisGroupCode_uniq                 0\n",
       "ClmDiagnosisCodes_uniq                  0\n",
       "ClmProcedureCodes_uniq                  0\n",
       "dtype: int64"
      ]
     },
     "execution_count": 70,
     "metadata": {},
     "output_type": "execute_result"
    }
   ],
   "source": [
    "X.isnull().sum()"
   ]
  },
  {
   "cell_type": "code",
   "execution_count": 71,
   "id": "needed-entity",
   "metadata": {
    "ExecuteTime": {
     "end_time": "2021-03-11T18:19:03.681703Z",
     "start_time": "2021-03-11T18:19:03.655328Z"
    }
   },
   "outputs": [],
   "source": [
    "# scale data\n",
    "\n",
    "scaler = StandardScaler()\n",
    "Xscl= scaler.fit_transform(X)\n",
    "\n",
    "Xscl_train, Xscl_test, yscl_train, yscl_test = train_test_split(Xscl, y, test_size = 0.2, random_state = 0, stratify = y)"
   ]
  },
  {
   "cell_type": "code",
   "execution_count": 48,
   "id": "modern-sensitivity",
   "metadata": {
    "ExecuteTime": {
     "end_time": "2021-03-11T17:34:00.482851Z",
     "start_time": "2021-03-11T17:34:00.476994Z"
    }
   },
   "outputs": [
    {
     "data": {
      "text/plain": [
       "(1673, 51)"
      ]
     },
     "execution_count": 48,
     "metadata": {},
     "output_type": "execute_result"
    }
   ],
   "source": [
    "Xscl_train.shape"
   ]
  },
  {
   "cell_type": "markdown",
   "id": "palestinian-northwest",
   "metadata": {
    "ExecuteTime": {
     "end_time": "2021-03-09T11:36:49.167132Z",
     "start_time": "2021-03-09T11:36:49.163837Z"
    }
   },
   "source": [
    "#  KNN Model"
   ]
  },
  {
   "cell_type": "code",
   "execution_count": 72,
   "id": "improved-banner",
   "metadata": {
    "ExecuteTime": {
     "end_time": "2021-03-11T18:19:09.647594Z",
     "start_time": "2021-03-11T18:19:09.124157Z"
    }
   },
   "outputs": [
    {
     "name": "stdout",
     "output_type": "stream",
     "text": [
      "Train Accuracy score: 0.869\n",
      "Test Accuracy score: 0.831\n"
     ]
    }
   ],
   "source": [
    "# knn of train split only\n",
    "\n",
    "knn = neighbors.KNeighborsClassifier()\n",
    "## set the possible parameters from 3 to 30\n",
    "\n",
    "# grid_param = {'n_neighbors': range(3, 31), 'metric': ['manhattan', 'minkowski', 'euclidean']}\n",
    "# para_search = GridSearchCV(estimator=knn, param_grid=grid_param, scoring='accuracy', cv=5, return_train_score=True)\n",
    "# para_search = para_search.fit(X, y.astype('int')) # y target must be integer type\n",
    "\n",
    "knn.fit(Xscl_train, yscl_train)\n",
    "print('Train Accuracy score: %.3f'%(knn.score(Xscl_train, yscl_train)))\n",
    "print('Test Accuracy score: %.3f'%(knn.score(Xscl_test, yscl_test)))"
   ]
  },
  {
   "cell_type": "code",
   "execution_count": 22,
   "id": "electronic-presentation",
   "metadata": {
    "ExecuteTime": {
     "end_time": "2021-03-11T17:05:09.034342Z",
     "start_time": "2021-03-11T17:05:08.629289Z"
    }
   },
   "outputs": [
    {
     "data": {
      "text/plain": [
       "array([0.81492537, 0.8119403 , 0.8119403 , 0.81437126, 0.84131737])"
      ]
     },
     "execution_count": 22,
     "metadata": {},
     "output_type": "execute_result"
    }
   ],
   "source": [
    "strat= ms.StratifiedKFold(n_splits=5)\n",
    "scores = ms.cross_val_score(estimator=knn, X=Xscl_train, y=yscl_train, cv=5)\n",
    "scores"
   ]
  },
  {
   "cell_type": "code",
   "execution_count": 23,
   "id": "indonesian-welding",
   "metadata": {
    "ExecuteTime": {
     "end_time": "2021-03-11T17:06:18.494403Z",
     "start_time": "2021-03-11T17:05:50.468669Z"
    }
   },
   "outputs": [],
   "source": [
    "# Test error vs. number of folds\n",
    "\n",
    "mean_error = [] \n",
    "std_error = [] \n",
    "kfold = range(3, 50) \n",
    "\n",
    "for i in kfold:\n",
    "    scores = ms.cross_val_score(knn, Xscl_train, yscl_train, cv=i) \n",
    "    mean_error.append(1 - scores.mean()) \n",
    "    std_error.append(scores.std())"
   ]
  },
  {
   "cell_type": "code",
   "execution_count": 24,
   "id": "intense-camcorder",
   "metadata": {
    "ExecuteTime": {
     "end_time": "2021-03-11T17:06:21.603287Z",
     "start_time": "2021-03-11T17:06:20.536652Z"
    },
    "scrolled": false
   },
   "outputs": [
    {
     "data": {
      "image/png": "[encoded data removed]",
      "text/plain": [
       "<Figure size 1440x576 with 1 Axes>"
      ]
     },
     "metadata": {},
     "output_type": "display_data"
    }
   ],
   "source": [
    "s1 = plt.scatter(kfold, mean_error, label='mean error') \n",
    "plt.plot(kfold, mean_error)\n",
    "s2 = plt.scatter(kfold, std_error, color='red', label='std') \n",
    "plt.plot(kfold, std_error, color='red')\n",
    "plt.xlim(0, 50)\n",
    "plt.xlabel('Number of folds')\n",
    "plt.legend(handles=[s1, s2], loc=2)\n",
    "plt.show()"
   ]
  },
  {
   "cell_type": "code",
   "execution_count": 25,
   "id": "gentle-monroe",
   "metadata": {
    "ExecuteTime": {
     "end_time": "2021-03-11T17:06:36.792643Z",
     "start_time": "2021-03-11T17:06:36.786607Z"
    }
   },
   "outputs": [
    {
     "data": {
      "text/plain": [
       "419"
      ]
     },
     "execution_count": 25,
     "metadata": {},
     "output_type": "execute_result"
    }
   ],
   "source": [
    "len(yscl_test)"
   ]
  },
  {
   "cell_type": "code",
   "execution_count": 26,
   "id": "computational-binding",
   "metadata": {
    "ExecuteTime": {
     "end_time": "2021-03-11T17:06:51.943735Z",
     "start_time": "2021-03-11T17:06:51.936652Z"
    }
   },
   "outputs": [
    {
     "data": {
      "text/plain": [
       "88"
      ]
     },
     "execution_count": 26,
     "metadata": {},
     "output_type": "execute_result"
    }
   ],
   "source": [
    "len(yscl_test[yscl_test==1])\n",
    "# 88 fraud / 419 providers"
   ]
  },
  {
   "cell_type": "code",
   "execution_count": 77,
   "id": "accepted-hypothesis",
   "metadata": {
    "ExecuteTime": {
     "end_time": "2021-03-09T12:36:02.881754Z",
     "start_time": "2021-03-09T12:36:02.874336Z"
    }
   },
   "outputs": [
    {
     "data": {
      "text/plain": [
       "331"
      ]
     },
     "execution_count": 77,
     "metadata": {},
     "output_type": "execute_result"
    }
   ],
   "source": [
    "419-88"
   ]
  },
  {
   "cell_type": "code",
   "execution_count": 73,
   "id": "parental-begin",
   "metadata": {
    "ExecuteTime": {
     "end_time": "2021-03-11T18:19:24.330998Z",
     "start_time": "2021-03-11T18:19:23.911760Z"
    }
   },
   "outputs": [
    {
     "data": {
      "text/plain": [
       "array([[1249,   72],\n",
       "       [ 147,  205]])"
      ]
     },
     "execution_count": 73,
     "metadata": {},
     "output_type": "execute_result"
    }
   ],
   "source": [
    "confusion_matrix(yscl_train, knn.predict(Xscl_train))"
   ]
  },
  {
   "cell_type": "code",
   "execution_count": 74,
   "id": "critical-billy",
   "metadata": {
    "ExecuteTime": {
     "end_time": "2021-03-11T18:19:26.458041Z",
     "start_time": "2021-03-11T18:19:26.351491Z"
    }
   },
   "outputs": [
    {
     "data": {
      "text/plain": [
       "array([[309,  22],\n",
       "       [ 49,  39]])"
      ]
     },
     "execution_count": 74,
     "metadata": {},
     "output_type": "execute_result"
    }
   ],
   "source": [
    "confusion_matrix(yscl_test, knn.predict(Xscl_test))"
   ]
  },
  {
   "cell_type": "markdown",
   "id": "random-premiere",
   "metadata": {},
   "source": [
    "# XGBoost Model"
   ]
  },
  {
   "cell_type": "code",
   "execution_count": 86,
   "id": "frank-director",
   "metadata": {
    "ExecuteTime": {
     "end_time": "2021-03-11T18:29:33.042895Z",
     "start_time": "2021-03-11T18:29:32.265472Z"
    }
   },
   "outputs": [
    {
     "name": "stdout",
     "output_type": "stream",
     "text": [
      "Train Accuracy score: 1.000\n",
      "Test Accuracy score: 0.866\n"
     ]
    }
   ],
   "source": [
    "xgbc = XGBClassifier()\n",
    "xgbc.fit(X_train, y_train)\n",
    "print('Train Accuracy score: %.3f'%(xgbc.score(X_train, y_train)))\n",
    "print('Test Accuracy score: %.3f'%(xgbc.score(X_test, y_test)))"
   ]
  },
  {
   "cell_type": "code",
   "execution_count": 24,
   "id": "clinical-bradford",
   "metadata": {
    "ExecuteTime": {
     "end_time": "2021-03-09T11:57:37.007706Z",
     "start_time": "2021-03-09T11:57:36.943495Z"
    }
   },
   "outputs": [
    {
     "name": "stdout",
     "output_type": "stream",
     "text": [
      "Baseline Values: \n",
      "Accuracy for train data is: 1.000\n",
      "Accuracy for test data is: 0.864\n",
      "--------------------------------------------------\n"
     ]
    }
   ],
   "source": [
    "#Baseline train test Values\n",
    "train_baseline_xgb = xgbc.predict(Xalt_le_train)\n",
    "#RMSE_train = np.sqrt(mean_squared_error(yalt_le_train, train_baseline_xgb))\n",
    "\n",
    "test_baseline_xgb = xgbc.predict(Xalt_le_test)\n",
    "#RMSE_test = np.sqrt(mean_squared_error(yalt_le_test,test_baseline_xgb))\n",
    "\n",
    "print(\"Baseline Values: \")\n",
    "print(\"Accuracy for train data is: %.3f\" %(xgbc.score(Xalt_le_train, yalt_le_train)))\n",
    "print(\"Accuracy for test data is: %.3f\" %(xgbc.score(Xalt_le_test,yalt_le_test)))\n",
    "print(\"-\" * 50)\n",
    "#print(\"RMSE for train data is: %.3f\" % RMSE_train)\n",
    "#print(\"RMSE for test data is: %.3f\" % RMSE_test)"
   ]
  },
  {
   "cell_type": "code",
   "execution_count": 76,
   "id": "second-automation",
   "metadata": {
    "ExecuteTime": {
     "end_time": "2021-03-11T18:19:55.585044Z",
     "start_time": "2021-03-11T18:19:53.270425Z"
    }
   },
   "outputs": [
    {
     "data": {
      "text/plain": [
       "array([0.84477612, 0.84179104, 0.87164179, 0.84131737, 0.84131737])"
      ]
     },
     "execution_count": 76,
     "metadata": {},
     "output_type": "execute_result"
    }
   ],
   "source": [
    "strat= XGBClassifier(n_splits=5, random_state=0)\n",
    "scores = ms.cross_val_score(estimator=xgbc, X=X_train, y=y_train, cv=5)\n",
    "scores"
   ]
  },
  {
   "cell_type": "code",
   "execution_count": 77,
   "id": "scenic-surrey",
   "metadata": {
    "ExecuteTime": {
     "end_time": "2021-03-11T18:20:00.802387Z",
     "start_time": "2021-03-11T18:20:00.778698Z"
    }
   },
   "outputs": [
    {
     "data": {
      "text/plain": [
       "array([[1321,    0],\n",
       "       [   0,  352]])"
      ]
     },
     "execution_count": 77,
     "metadata": {},
     "output_type": "execute_result"
    }
   ],
   "source": [
    "confusion_matrix(y_train, xgbc.predict(X_train))"
   ]
  },
  {
   "cell_type": "code",
   "execution_count": 78,
   "id": "alternative-treasure",
   "metadata": {
    "ExecuteTime": {
     "end_time": "2021-03-11T18:20:02.893424Z",
     "start_time": "2021-03-11T18:20:02.878887Z"
    }
   },
   "outputs": [
    {
     "data": {
      "text/plain": [
       "array([[314,  17],\n",
       "       [ 39,  49]])"
      ]
     },
     "execution_count": 78,
     "metadata": {},
     "output_type": "execute_result"
    }
   ],
   "source": [
    "confusion_matrix(y_test, xgbc.predict(X_test))"
   ]
  },
  {
   "cell_type": "markdown",
   "id": "allied-coach",
   "metadata": {
    "ExecuteTime": {
     "end_time": "2021-03-09T11:42:04.899279Z",
     "start_time": "2021-03-09T11:42:04.895978Z"
    }
   },
   "source": [
    "# XGBoost Random Forest Classifier"
   ]
  },
  {
   "cell_type": "code",
   "execution_count": 80,
   "id": "senior-davis",
   "metadata": {
    "ExecuteTime": {
     "end_time": "2021-03-11T18:22:46.116295Z",
     "start_time": "2021-03-11T18:22:45.480249Z"
    }
   },
   "outputs": [
    {
     "name": "stdout",
     "output_type": "stream",
     "text": [
      "0.958756724447101\n",
      "0.863961813842482\n",
      "Train Accuracy score: 0.959\n",
      "Test Accuracy score: 0.864\n"
     ]
    }
   ],
   "source": [
    "xgbrfc = XGBRFClassifier()\n",
    "xgbrfc.fit(X_train, y_train)\n",
    "print(xgbrfc.score(X_train, y_train))\n",
    "print(xgbrfc.score(X_test, y_test))\n",
    "\n",
    "print('Train Accuracy score: %.3f'%(xgbrfc.score(X_train, y_train)))\n",
    "print('Test Accuracy score: %.3f'%(xgbrfc.score(X_test, y_test)))"
   ]
  },
  {
   "cell_type": "code",
   "execution_count": 81,
   "id": "designing-exposure",
   "metadata": {
    "ExecuteTime": {
     "end_time": "2021-03-11T18:24:20.523019Z",
     "start_time": "2021-03-11T18:24:20.506856Z"
    }
   },
   "outputs": [
    {
     "data": {
      "text/plain": [
       "array([[315,  16],\n",
       "       [ 41,  47]])"
      ]
     },
     "execution_count": 81,
     "metadata": {},
     "output_type": "execute_result"
    }
   ],
   "source": [
    "confusion_matrix(y_test, xgbrfc.predict(X_test))"
   ]
  },
  {
   "cell_type": "markdown",
   "id": "critical-sound",
   "metadata": {},
   "source": [
    "# XGBoost Feature Selection"
   ]
  },
  {
   "cell_type": "code",
   "execution_count": 87,
   "id": "fantastic-cancer",
   "metadata": {
    "ExecuteTime": {
     "end_time": "2021-03-11T18:29:38.905185Z",
     "start_time": "2021-03-11T18:29:38.858728Z"
    }
   },
   "outputs": [
    {
     "name": "stdout",
     "output_type": "stream",
     "text": [
      "[('AdmissionDt_mad', 0.0), ('AdmissionDt_mean', 0.0015886549), ('numDiagCodes_mad', 0.006385402), ('numProcCodes_mad', 0.0067581194), ('ChronicCond_rheumatoidarthritis_mean', 0.0071024136), ('ChronicCond_Cancer_mean', 0.008120619), ('ChronicCond_ObstrPulmonary_mean', 0.008524991), ('RenalDiseaseIndicator_mean', 0.009749524), ('ChronicCond_Depression_mean', 0.009840397), ('fraction_not_white', 0.009852037), ('ChronicCond_stroke_mean', 0.009904166), ('numDiagCodes_mean', 0.0100905895), ('IPAnnualReimbursementAmt_mean', 0.010249668), ('ClaimStartDt_mean', 0.010352005), ('ChronicCond_Osteoporasis_mean', 0.0104988795), ('IPAnnualDeductibleAmt_mean', 0.010554284), ('Age_mean', 0.01070142), ('numPhysicians_mad', 0.01096059), ('ChronicCond_IschemicHeart_mean', 0.011004374), ('numPhysicians_mean', 0.011231513), ('ChronicCond_Alzheimer_mean', 0.011702934), ('numChronic_mad', 0.011812969), ('MFgender_ratio', 0.011848441), ('numProcCodes_mean', 0.011895049), ('ChronicCond_Heartfailure_mean', 0.0120257605), ('IPAnnualReimbursementAmt_mad', 0.012538454), ('ChronicCond_KidneyDisease_mean', 0.012644954), ('IPAnnualDeductibleAmt_mad', 0.012648175), ('Age_mad', 0.012691264), ('InscClaimAmtReimbursed_mean', 0.01319135), ('ClaimDuration_mean', 0.013575161), ('numChronic_mean', 0.014063672), ('AdmitDays_mean', 0.014190109), ('InscClaimAmtReimbursed_mad', 0.014958073), ('County', 0.015263601), ('ChronicCond_Diabetes_mean', 0.015963214), ('ClmAdmitDiagnosisCode_uniq', 0.01639744), ('NoOfMonths_PartBCov_mean', 0.017216615), ('fraction_died', 0.017710673), ('numBene', 0.020371834), ('ClmDiagnosisCodes_uniq', 0.021352304), ('ReimbPerDayAdmit_mad', 0.023078058), ('ClaimStartDt_mad', 0.023336977), ('ClaimDuration_mad', 0.028906075), ('ReimbPerDayAdmit_mean', 0.03232909), ('NoOfMonths_PartACov_mean', 0.032649536), ('DiagnosisGroupCode_uniq', 0.042840738), ('ClmProcedureCodes_uniq', 0.04403107), ('numClaim', 0.04937738), ('AdmitDays_mad', 0.05067377), ('InscClaimAmtReimbursed_sum', 0.19524561)]\n"
     ]
    }
   ],
   "source": [
    "fi=list(zip(X_train.columns, xgbc.feature_importances_))\n",
    "fi.sort(key=lambda t: t[1])\n",
    "print(fi)\n",
    "firem = [i for i in fi if i[1] > 0.01]\n",
    "# get column names only\n",
    "colnam=[t[0] for t in  firem]"
   ]
  },
  {
   "cell_type": "code",
   "execution_count": 88,
   "id": "auburn-telescope",
   "metadata": {
    "ExecuteTime": {
     "end_time": "2021-03-11T18:29:56.001713Z",
     "start_time": "2021-03-11T18:29:55.994688Z"
    }
   },
   "outputs": [
    {
     "data": {
      "text/plain": [
       "['numDiagCodes_mean',\n",
       " 'IPAnnualReimbursementAmt_mean',\n",
       " 'ClaimStartDt_mean',\n",
       " 'ChronicCond_Osteoporasis_mean',\n",
       " 'IPAnnualDeductibleAmt_mean',\n",
       " 'Age_mean',\n",
       " 'numPhysicians_mad',\n",
       " 'ChronicCond_IschemicHeart_mean',\n",
       " 'numPhysicians_mean',\n",
       " 'ChronicCond_Alzheimer_mean',\n",
       " 'numChronic_mad',\n",
       " 'MFgender_ratio',\n",
       " 'numProcCodes_mean',\n",
       " 'ChronicCond_Heartfailure_mean',\n",
       " 'IPAnnualReimbursementAmt_mad',\n",
       " 'ChronicCond_KidneyDisease_mean',\n",
       " 'IPAnnualDeductibleAmt_mad',\n",
       " 'Age_mad',\n",
       " 'InscClaimAmtReimbursed_mean',\n",
       " 'ClaimDuration_mean',\n",
       " 'numChronic_mean',\n",
       " 'AdmitDays_mean',\n",
       " 'InscClaimAmtReimbursed_mad',\n",
       " 'County',\n",
       " 'ChronicCond_Diabetes_mean',\n",
       " 'ClmAdmitDiagnosisCode_uniq',\n",
       " 'NoOfMonths_PartBCov_mean',\n",
       " 'fraction_died',\n",
       " 'numBene',\n",
       " 'ClmDiagnosisCodes_uniq',\n",
       " 'ReimbPerDayAdmit_mad',\n",
       " 'ClaimStartDt_mad',\n",
       " 'ClaimDuration_mad',\n",
       " 'ReimbPerDayAdmit_mean',\n",
       " 'NoOfMonths_PartACov_mean',\n",
       " 'DiagnosisGroupCode_uniq',\n",
       " 'ClmProcedureCodes_uniq',\n",
       " 'numClaim',\n",
       " 'AdmitDays_mad',\n",
       " 'InscClaimAmtReimbursed_sum']"
      ]
     },
     "execution_count": 88,
     "metadata": {},
     "output_type": "execute_result"
    }
   ],
   "source": [
    "colnam"
   ]
  },
  {
   "cell_type": "code",
   "execution_count": 89,
   "id": "legendary-mystery",
   "metadata": {
    "ExecuteTime": {
     "end_time": "2021-03-11T18:29:58.720501Z",
     "start_time": "2021-03-11T18:29:58.714594Z"
    }
   },
   "outputs": [
    {
     "data": {
      "text/plain": [
       "40"
      ]
     },
     "execution_count": 89,
     "metadata": {},
     "output_type": "execute_result"
    }
   ],
   "source": [
    "len(colnam)"
   ]
  },
  {
   "cell_type": "code",
   "execution_count": 90,
   "id": "thorough-cricket",
   "metadata": {
    "ExecuteTime": {
     "end_time": "2021-03-11T18:30:25.477555Z",
     "start_time": "2021-03-11T18:30:25.467366Z"
    }
   },
   "outputs": [],
   "source": [
    "# new dataframe with reduced features\n",
    "X_train_red = X_train[colnam]\n",
    "X_test_red = X_test[colnam]"
   ]
  },
  {
   "cell_type": "code",
   "execution_count": 91,
   "id": "fuzzy-hazard",
   "metadata": {
    "ExecuteTime": {
     "end_time": "2021-03-11T18:30:58.497721Z",
     "start_time": "2021-03-11T18:30:57.873661Z"
    }
   },
   "outputs": [
    {
     "name": "stdout",
     "output_type": "stream",
     "text": [
      "1.0\n",
      "0.8758949880668258\n"
     ]
    }
   ],
   "source": [
    "xgbc_red = XGBClassifier()\n",
    "xgbc_red.fit(X_train_red, y_train)\n",
    "print(xgbc_red.score(X_train_red, y_train))\n",
    "print(xgbc_red.score(X_test_red, y_test))"
   ]
  },
  {
   "cell_type": "code",
   "execution_count": 92,
   "id": "cutting-output",
   "metadata": {
    "ExecuteTime": {
     "end_time": "2021-03-11T18:31:29.820515Z",
     "start_time": "2021-03-11T18:31:29.806551Z"
    }
   },
   "outputs": [
    {
     "data": {
      "text/plain": [
       "array([[313,  18],\n",
       "       [ 34,  54]])"
      ]
     },
     "execution_count": 92,
     "metadata": {},
     "output_type": "execute_result"
    }
   ],
   "source": [
    "confusion_matrix(y_test, xgbc_red.predict(X_test_red))"
   ]
  },
  {
   "cell_type": "markdown",
   "id": "cardiac-tracy",
   "metadata": {
    "ExecuteTime": {
     "end_time": "2021-03-09T11:44:08.889977Z",
     "start_time": "2021-03-09T11:44:08.886585Z"
    }
   },
   "source": [
    "# Model Evaluation with ROC AUC"
   ]
  },
  {
   "cell_type": "code",
   "execution_count": 94,
   "id": "advisory-guatemala",
   "metadata": {
    "ExecuteTime": {
     "end_time": "2021-03-11T18:33:08.539815Z",
     "start_time": "2021-03-11T18:33:08.449524Z"
    }
   },
   "outputs": [
    {
     "name": "stdout",
     "output_type": "stream",
     "text": [
      "1.0\n",
      "0.7796278494918979\n"
     ]
    }
   ],
   "source": [
    "# ROC AUC for XGBoost classifier with reduced dataset after feature selection ():\n",
    "print(roc_auc_score(y_train,xgbc_red.predict(X_train_red)))\n",
    "print(roc_auc_score(y_test,xgbc_red.predict(X_test_red)))"
   ]
  },
  {
   "cell_type": "code",
   "execution_count": 95,
   "id": "retained-estonia",
   "metadata": {
    "ExecuteTime": {
     "end_time": "2021-03-11T18:33:20.506501Z",
     "start_time": "2021-03-11T18:33:20.012324Z"
    },
    "scrolled": false
   },
   "outputs": [
    {
     "data": {
      "text/plain": [
       "<sklearn.metrics._plot.roc_curve.RocCurveDisplay at 0x121e5ddf0>"
      ]
     },
     "execution_count": 95,
     "metadata": {},
     "output_type": "execute_result"
    },
    {
     "data": {
      "image/png": "[encoded data removed]",
      "text/plain": [
       "<Figure size 1440x576 with 1 Axes>"
      ]
     },
     "metadata": {},
     "output_type": "display_data"
    }
   ],
   "source": [
    "plot_roc_curve(xgbc_red, X_test_red,y_test)"
   ]
  },
  {
   "cell_type": "code",
   "execution_count": 59,
   "id": "general-drove",
   "metadata": {
    "ExecuteTime": {
     "end_time": "2021-03-09T12:06:58.579206Z",
     "start_time": "2021-03-09T12:06:58.166951Z"
    }
   },
   "outputs": [
    {
     "data": {
      "image/png": "[encoded data removed]",
      "text/plain": [
       "<Figure size 1440x576 with 1 Axes>"
      ]
     },
     "metadata": {},
     "output_type": "display_data"
    }
   ],
   "source": [
    "fpr, tpr, thresholds = roc_curve(yalt_le_test, xgbc_red.predict(Xalt_le_test_red))\n",
    "roc_auc = auc(fpr, tpr)\n",
    "display = RocCurveDisplay(fpr=fpr, tpr=tpr, roc_auc=roc_auc, estimator_name='example estimator')\n",
    "display.plot()  \n",
    "plt.show()"
   ]
  },
  {
   "cell_type": "code",
   "execution_count": 60,
   "id": "intermediate-plant",
   "metadata": {
    "ExecuteTime": {
     "end_time": "2021-03-09T12:07:01.944824Z",
     "start_time": "2021-03-09T12:07:01.913946Z"
    }
   },
   "outputs": [
    {
     "name": "stdout",
     "output_type": "stream",
     "text": [
      "1.0\n",
      "0.6623376623376623\n"
     ]
    }
   ],
   "source": [
    "# F1 for XGBoost classifier with reduced dataset after feature selection (ranges from 0 to 1, perfect score is 1):\n",
    "print(f1_score(yalt_le_train,xgbc_red.predict(Xalt_le_train_red)))\n",
    "print(f1_score(yalt_le_test,xgbc_red.predict(Xalt_le_test_red)))"
   ]
  },
  {
   "cell_type": "code",
   "execution_count": null,
   "id": "pleased-entry",
   "metadata": {},
   "outputs": [],
   "source": []
  },
  {
   "cell_type": "markdown",
   "id": "exceptional-think",
   "metadata": {},
   "source": [
    "# Random Forest Classifier"
   ]
  },
  {
   "cell_type": "code",
   "execution_count": 96,
   "id": "coral-bunch",
   "metadata": {
    "ExecuteTime": {
     "end_time": "2021-03-11T18:34:09.959446Z",
     "start_time": "2021-03-11T18:34:09.063247Z"
    }
   },
   "outputs": [
    {
     "name": "stdout",
     "output_type": "stream",
     "text": [
      "0.9994022713687986\n",
      "0.8663484486873508\n"
     ]
    }
   ],
   "source": [
    "rfc = RandomForestClassifier()\n",
    "rfc.fit(X_train, y_train)\n",
    "print(rfc.score(X_train, y_train))\n",
    "print(rfc.score(X_test, y_test))"
   ]
  },
  {
   "cell_type": "code",
   "execution_count": 69,
   "id": "literary-defendant",
   "metadata": {
    "ExecuteTime": {
     "end_time": "2021-03-09T12:22:48.107066Z",
     "start_time": "2021-03-09T12:22:48.070690Z"
    }
   },
   "outputs": [
    {
     "data": {
      "text/plain": [
       "array([[317,  14],\n",
       "       [ 52,  36]])"
      ]
     },
     "execution_count": 69,
     "metadata": {},
     "output_type": "execute_result"
    }
   ],
   "source": [
    "confusion_matrix(yalt_le_test, rfc.predict(Xalt_le_test))"
   ]
  },
  {
   "cell_type": "markdown",
   "id": "supreme-humor",
   "metadata": {},
   "source": [
    "# Gradient Boosting Classifier"
   ]
  },
  {
   "cell_type": "code",
   "execution_count": 97,
   "id": "consolidated-roman",
   "metadata": {
    "ExecuteTime": {
     "end_time": "2021-03-11T18:35:17.407569Z",
     "start_time": "2021-03-11T18:35:15.469729Z"
    }
   },
   "outputs": [
    {
     "name": "stdout",
     "output_type": "stream",
     "text": [
      "0.9617453676031081\n",
      "0.8711217183770883\n"
     ]
    }
   ],
   "source": [
    "gbc = GradientBoostingClassifier()\n",
    "gbc.fit(X_train, y_train)\n",
    "print(gbc.score(X_train, y_train))\n",
    "print(gbc.score(X_test, y_test))"
   ]
  },
  {
   "cell_type": "code",
   "execution_count": 98,
   "id": "superior-dominant",
   "metadata": {
    "ExecuteTime": {
     "end_time": "2021-03-11T18:35:42.580026Z",
     "start_time": "2021-03-11T18:35:42.565741Z"
    }
   },
   "outputs": [
    {
     "data": {
      "text/plain": [
       "array([[312,  19],\n",
       "       [ 35,  53]])"
      ]
     },
     "execution_count": 98,
     "metadata": {},
     "output_type": "execute_result"
    }
   ],
   "source": [
    "confusion_matrix(y_test, gbc.predict(X_test))"
   ]
  },
  {
   "cell_type": "code",
   "execution_count": 83,
   "id": "split-royal",
   "metadata": {
    "ExecuteTime": {
     "end_time": "2021-03-09T13:04:20.322093Z",
     "start_time": "2021-03-09T13:04:20.293680Z"
    }
   },
   "outputs": [
    {
     "name": "stdout",
     "output_type": "stream",
     "text": [
      "0.916384582960567\n",
      "0.7898413897280967\n"
     ]
    }
   ],
   "source": [
    "# ROC AUC for GB classifier :\n",
    "print(roc_auc_score(yalt_le_train,gbc.predict(Xalt_le_train)))\n",
    "print(roc_auc_score(yalt_le_test,gbc.predict(Xalt_le_test)))"
   ]
  },
  {
   "cell_type": "code",
   "execution_count": 99,
   "id": "three-letters",
   "metadata": {
    "ExecuteTime": {
     "end_time": "2021-03-11T18:36:18.310904Z",
     "start_time": "2021-03-11T18:36:17.887698Z"
    },
    "scrolled": false
   },
   "outputs": [
    {
     "data": {
      "text/plain": [
       "<sklearn.metrics._plot.roc_curve.RocCurveDisplay at 0x121b15670>"
      ]
     },
     "execution_count": 99,
     "metadata": {},
     "output_type": "execute_result"
    },
    {
     "data": {
      "image/png": "[encoded data removed]",
      "text/plain": [
       "<Figure size 1440x576 with 1 Axes>"
      ]
     },
     "metadata": {},
     "output_type": "display_data"
    }
   ],
   "source": [
    "plot_roc_curve(gbc, X_test,y_test)"
   ]
  },
  {
   "cell_type": "code",
   "execution_count": 100,
   "id": "embedded-certificate",
   "metadata": {
    "ExecuteTime": {
     "end_time": "2021-03-11T18:36:47.875218Z",
     "start_time": "2021-03-11T18:36:46.445622Z"
    },
    "scrolled": true
   },
   "outputs": [
    {
     "name": "stdout",
     "output_type": "stream",
     "text": [
      "0.9623430962343096\n",
      "0.8568019093078759\n"
     ]
    }
   ],
   "source": [
    "# with reduced dataset\n",
    "gbc = GradientBoostingClassifier()\n",
    "gbc.fit(X_train_red, y_train)\n",
    "print(gbc.score(X_train_red, y_train))\n",
    "print(gbc.score(X_test_red, y_test))"
   ]
  },
  {
   "cell_type": "code",
   "execution_count": 101,
   "id": "measured-macedonia",
   "metadata": {
    "ExecuteTime": {
     "end_time": "2021-03-11T18:37:12.622509Z",
     "start_time": "2021-03-11T18:37:12.608047Z"
    }
   },
   "outputs": [
    {
     "data": {
      "text/plain": [
       "array([[307,  24],\n",
       "       [ 36,  52]])"
      ]
     },
     "execution_count": 101,
     "metadata": {},
     "output_type": "execute_result"
    }
   ],
   "source": [
    "confusion_matrix(y_test, gbc.predict(X_test_red))"
   ]
  },
  {
   "cell_type": "markdown",
   "id": "italian-quilt",
   "metadata": {},
   "source": [
    "## Gradient Boosting Classifier using PCA "
   ]
  },
  {
   "cell_type": "code",
   "execution_count": 29,
   "id": "treated-better",
   "metadata": {
    "ExecuteTime": {
     "end_time": "2021-03-10T00:03:59.149498Z",
     "start_time": "2021-03-10T00:03:58.864633Z"
    },
    "scrolled": true
   },
   "outputs": [
    {
     "name": "stdout",
     "output_type": "stream",
     "text": [
      "Explained variation per principal component: [0.15792236 0.06386414 0.05812938 0.04028418 0.02690936 0.02529868\n",
      " 0.02441725 0.02414713 0.02167647 0.01974858 0.01836625 0.01811127\n",
      " 0.01729694 0.01662362 0.01612472 0.0155087  0.01512323 0.01453097\n",
      " 0.01369036 0.01355677 0.01330772 0.01293693 0.01276076 0.01261808\n",
      " 0.01196139 0.01165054 0.01153041 0.01129727 0.01119847 0.01094575\n",
      " 0.01082444 0.01074785 0.01046444 0.01040741 0.00998925 0.00978519\n",
      " 0.00942855 0.00921615 0.00882939 0.00862806 0.00855963 0.00790366\n",
      " 0.0076943  0.00760548 0.00744665 0.00698224 0.0066831  0.00623957\n",
      " 0.00600379 0.00566926]\n"
     ]
    }
   ],
   "source": [
    "pca_3 = PCA(n_components=50)\n",
    "pca_result_3 = pca_3.fit_transform(Xalt_le)\n",
    "print('Explained variation per principal component: {}'.format(pca_3.explained_variance_ratio_))"
   ]
  },
  {
   "cell_type": "code",
   "execution_count": 30,
   "id": "connected-wrapping",
   "metadata": {
    "ExecuteTime": {
     "end_time": "2021-03-10T00:04:01.942036Z",
     "start_time": "2021-03-10T00:04:01.935157Z"
    }
   },
   "outputs": [
    {
     "data": {
      "text/plain": [
       "0.9106461149814871"
      ]
     },
     "execution_count": 30,
     "metadata": {},
     "output_type": "execute_result"
    }
   ],
   "source": [
    "sum(pca_3.explained_variance_ratio_)"
   ]
  },
  {
   "cell_type": "code",
   "execution_count": null,
   "id": "compressed-sampling",
   "metadata": {},
   "outputs": [],
   "source": [
    "# gbc = GradientBoostingClassifier()\n",
    "# gbc.fit(pca_result_3, yalt_le_train)\n",
    "# print(gbc.score(pca_result_3, yalt_le_train))\n",
    "# print(gbc.score(Xalt_le_test_red, yalt_le_test))"
   ]
  },
  {
   "cell_type": "markdown",
   "id": "atlantic-antique",
   "metadata": {},
   "source": [
    "# Support Vector Machine"
   ]
  },
  {
   "cell_type": "code",
   "execution_count": 12,
   "id": "rubber-celtic",
   "metadata": {
    "ExecuteTime": {
     "end_time": "2021-03-09T14:16:24.347852Z",
     "start_time": "2021-03-09T14:16:24.336113Z"
    }
   },
   "outputs": [
    {
     "data": {
      "text/plain": [
       "AttendingPhysician_mode                   int64\n",
       "OperatingPhysician_mode                   int64\n",
       "OtherPhysician_mode                       int64\n",
       "ClmAdmitDiagnosisCode_mode                int64\n",
       "DiagnosisGroupCode_mode                   int64\n",
       "ClmDiagnosisCode_1_mode                   int64\n",
       "ClmDiagnosisCode_2_mode                   int64\n",
       "ClmDiagnosisCode_3_mode                   int64\n",
       "ClmDiagnosisCode_4_mode                   int64\n",
       "ClmDiagnosisCode_5_mode                   int64\n",
       "ClmDiagnosisCode_6_mode                   int64\n",
       "ClmDiagnosisCode_7_mode                   int64\n",
       "ClmDiagnosisCode_8_mode                   int64\n",
       "ClmDiagnosisCode_9_mode                   int64\n",
       "ClmDiagnosisCode_10_mode                  int64\n",
       "ClmProcedureCode_1_mode                   int64\n",
       "ClmProcedureCode_2_mode                   int64\n",
       "ClmProcedureCode_3_mode                   int64\n",
       "ClmProcedureCode_4_mode                   int64\n",
       "ClmProcedureCode_5_mode                   int64\n",
       "numBene                                   int64\n",
       "numClaim                                  int64\n",
       "InscClaimAmtReimbursed_sum                int64\n",
       "InscClaimAmtReimbursed_mean             float64\n",
       "InscClaimAmtReimbursed_mad              float64\n",
       "ReimbPerDayAdmit_mean                   float64\n",
       "ReimbPerDayAdmit_mad                    float64\n",
       "ClaimStartDt_mean                       float64\n",
       "ClaimStartDt_mad                        float64\n",
       "AdmissionDt_mean                        float64\n",
       "AdmissionDt_mad                         float64\n",
       "DOD_mode                                  int64\n",
       "Gender_mean                             float64\n",
       "Gender_mad                              float64\n",
       "Race_mean                               float64\n",
       "Race_mad                                float64\n",
       "RenalDiseaseIndicator_mean              float64\n",
       "RenalDiseaseIndicator_mad               float64\n",
       "State_mode                                int64\n",
       "County_mode                               int64\n",
       "NoOfMonths_PartACov_mean                float64\n",
       "NoOfMonths_PartACov_mad                 float64\n",
       "NoOfMonths_PartBCov_mean                float64\n",
       "NoOfMonths_PartBCov_mad                 float64\n",
       "ChronicCond_Alzheimer_mean              float64\n",
       "ChronicCond_Alzheimer_mad               float64\n",
       "ChronicCond_Heartfailure_mean           float64\n",
       "ChronicCond_Heartfailure_mad            float64\n",
       "ChronicCond_KidneyDisease_mean          float64\n",
       "ChronicCond_KidneyDisease_mad           float64\n",
       "ChronicCond_Cancer_mean                 float64\n",
       "ChronicCond_Cancer_mad                  float64\n",
       "ChronicCond_ObstrPulmonary_mean         float64\n",
       "ChronicCond_ObstrPulmonary_mad          float64\n",
       "ChronicCond_Depression_mean             float64\n",
       "ChronicCond_Depression_mad              float64\n",
       "ChronicCond_Diabetes_mean               float64\n",
       "ChronicCond_Diabetes_mad                float64\n",
       "ChronicCond_IschemicHeart_mean          float64\n",
       "ChronicCond_IschemicHeart_mad           float64\n",
       "ChronicCond_Osteoporasis_mean           float64\n",
       "ChronicCond_Osteoporasis_mad            float64\n",
       "ChronicCond_rheumatoidarthritis_mean    float64\n",
       "ChronicCond_rheumatoidarthritis_mad     float64\n",
       "ChronicCond_stroke_mean                 float64\n",
       "ChronicCond_stroke_mad                  float64\n",
       "IPAnnualReimbursementAmt_mean           float64\n",
       "IPAnnualReimbursementAmt_mad            float64\n",
       "IPAnnualDeductibleAmt_mean              float64\n",
       "IPAnnualDeductibleAmt_mad               float64\n",
       "numChronic_mean                         float64\n",
       "numChronic_mad                          float64\n",
       "Age_mean                                float64\n",
       "Age_mad                                 float64\n",
       "ClaimDuration_mean                      float64\n",
       "ClaimDuration_mad                       float64\n",
       "AdmitDays_mean                          float64\n",
       "AdmitDays_mad                           float64\n",
       "numPhysicians_mean                      float64\n",
       "numPhysicians_mad                       float64\n",
       "numDiagCodes_mean                       float64\n",
       "numDiagCodes_mad                        float64\n",
       "numProcCodes_mean                       float64\n",
       "numProcCodes_mad                        float64\n",
       "ClmAdmitDiagnosisCode_uniq                int64\n",
       "DiagnosisGroupCode_uniq                   int64\n",
       "ClmDiagnosisCodes_uniq                    int64\n",
       "ClmProcedureCodes_uniq                    int64\n",
       "dtype: object"
      ]
     },
     "execution_count": 12,
     "metadata": {},
     "output_type": "execute_result"
    }
   ],
   "source": [
    "Xalt_le.dtypes"
   ]
  },
  {
   "cell_type": "code",
   "execution_count": 102,
   "id": "driving-cookbook",
   "metadata": {
    "ExecuteTime": {
     "end_time": "2021-03-11T18:39:28.691067Z",
     "start_time": "2021-03-11T18:39:28.203561Z"
    },
    "scrolled": true
   },
   "outputs": [
    {
     "name": "stdout",
     "output_type": "stream",
     "text": [
      "[LibSVM]1.0\n",
      "0.766109785202864\n"
     ]
    }
   ],
   "source": [
    "\n",
    "svm_model= svm.SVC(kernel='poly', C=1e5, degree=3, verbose=4, max_iter=-1)\n",
    "svm_model.set_params(degree=3)\n",
    "svm_model.fit(Xscl_train, yscl_train)\n",
    "print(svm_model.score(Xscl_train, yscl_train))\n",
    "print(svm_model.score(Xscl_test, yscl_test))\n"
   ]
  },
  {
   "cell_type": "code",
   "execution_count": 103,
   "id": "molecular-heather",
   "metadata": {
    "ExecuteTime": {
     "end_time": "2021-03-11T18:39:43.845278Z",
     "start_time": "2021-03-11T18:39:43.818677Z"
    }
   },
   "outputs": [
    {
     "data": {
      "text/plain": [
       "array([[274,  57],\n",
       "       [ 41,  47]])"
      ]
     },
     "execution_count": 103,
     "metadata": {},
     "output_type": "execute_result"
    }
   ],
   "source": [
    "confusion_matrix(yscl_test, svm_model.predict(Xscl_test))"
   ]
  },
  {
   "cell_type": "code",
   "execution_count": null,
   "id": "selected-crack",
   "metadata": {
    "ExecuteTime": {
     "end_time": "2021-03-09T21:35:15.006521Z",
     "start_time": "2021-03-09T21:35:14.988408Z"
    }
   },
   "outputs": [],
   "source": []
  },
  {
   "cell_type": "code",
   "execution_count": null,
   "id": "applied-spelling",
   "metadata": {},
   "outputs": [],
   "source": []
  }
 ],
 "metadata": {
  "kernelspec": {
   "display_name": "Python 3",
   "language": "python",
   "name": "python3"
  },
  "language_info": {
   "codemirror_mode": {
    "name": "ipython",
    "version": 3
   },
   "file_extension": ".py",
   "mimetype": "text/x-python",
   "name": "python",
   "nbconvert_exporter": "python",
   "pygments_lexer": "ipython3",
   "version": "3.8.5"
  },
  "toc": {
   "base_numbering": 1,
   "nav_menu": {},
   "number_sections": true,
   "sideBar": true,
   "skip_h1_title": false,
   "title_cell": "Table of Contents",
   "title_sidebar": "Contents",
   "toc_cell": true,
   "toc_position": {},
   "toc_section_display": true,
   "toc_window_display": false
  },
  "varInspector": {
   "cols": {
    "lenName": 16,
    "lenType": 16,
    "lenVar": 40
   },
   "kernels_config": {
    "python": {
     "delete_cmd_postfix": "",
     "delete_cmd_prefix": "del ",
     "library": "var_list.py",
     "varRefreshCmd": "print(var_dic_list())"
    },
    "r": {
     "delete_cmd_postfix": ") ",
     "delete_cmd_prefix": "rm(",
     "library": "var_list.r",
     "varRefreshCmd": "cat(var_dic_list()) "
    }
   },
   "types_to_exclude": [
    "module",
    "function",
    "builtin_function_or_method",
    "instance",
    "_Feature"
   ],
   "window_display": false
  }
 },
 "nbformat": 4,
 "nbformat_minor": 5
}
