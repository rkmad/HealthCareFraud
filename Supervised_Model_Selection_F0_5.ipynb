{
 "cells": [
  {
   "cell_type": "markdown",
   "id": "industrial-pillow",
   "metadata": {
    "toc": true
   },
   "source": [
    "<h1>Table of Contents<span class=\"tocSkip\"></span></h1>\n",
    "<div class=\"toc\"><ul class=\"toc-item\"><li><span><a href=\"#Baseline-Model-Selection-with-Original-Data-without-Cross-Validation\" data-toc-modified-id=\"Baseline-Model-Selection-with-Original-Data-without-Cross-Validation-1\"><span class=\"toc-item-num\">1&nbsp;&nbsp;</span>Baseline Model Selection with Original Data without Cross Validation</a></span><ul class=\"toc-item\"><li><span><a href=\"#Promising-models-based-on-balance-between-Recall-and-Precision-Scores-and-F0.5:\" data-toc-modified-id=\"Promising-models-based-on-balance-between-Recall-and-Precision-Scores-and-F0.5:-1.1\"><span class=\"toc-item-num\">1.1&nbsp;&nbsp;</span>Promising models based on balance between Recall and Precision Scores and F0.5:</a></span></li></ul></li><li><span><a href=\"#Baseline-Model-Selection-with-Original-data-and-Cross-Validation\" data-toc-modified-id=\"Baseline-Model-Selection-with-Original-data-and-Cross-Validation-2\"><span class=\"toc-item-num\">2&nbsp;&nbsp;</span>Baseline Model Selection with Original data and Cross Validation</a></span></li></ul></div>"
   ]
  },
  {
   "cell_type": "code",
   "execution_count": 1,
   "id": "indie-essex",
   "metadata": {
    "ExecuteTime": {
     "end_time": "2021-03-23T12:54:51.007718Z",
     "start_time": "2021-03-23T12:54:50.990675Z"
    },
    "run_control": {
     "marked": true
    }
   },
   "outputs": [
    {
     "data": {
      "text/html": [
       "<style>.container { width:100% !important; }</style>"
      ],
      "text/plain": [
       "<IPython.core.display.HTML object>"
      ]
     },
     "metadata": {},
     "output_type": "display_data"
    }
   ],
   "source": [
    "from IPython.core.display import display, HTML\n",
    "display(HTML(\"<style>.container { width:100% !important; }</style>\"))"
   ]
  },
  {
   "cell_type": "code",
   "execution_count": 2,
   "id": "taken-tribune",
   "metadata": {
    "ExecuteTime": {
     "end_time": "2021-03-23T12:55:12.556016Z",
     "start_time": "2021-03-23T12:54:52.398082Z"
    }
   },
   "outputs": [],
   "source": [
    "import pandas as pd\n",
    "from sklearn.metrics import recall_score, precision_score, mean_squared_log_error, mean_squared_error, confusion_matrix, roc_auc_score, f1_score, plot_roc_curve, roc_curve, RocCurveDisplay, auc, precision_recall_curve, fbeta_score, make_scorer\n",
    "from sklearn.model_selection import cross_validate, StratifiedKFold, train_test_split, cross_val_predict, GridSearchCV\n",
    "from sklearn.pipeline import Pipeline\n",
    "from sklearn.svm import LinearSVC, NuSVC, SVC\n",
    "from sklearn.neighbors import KNeighborsClassifier\n",
    "from sklearn.preprocessing import StandardScaler, MinMaxScaler\n",
    "from sklearn.linear_model import LogisticRegressionCV, LogisticRegression, SGDClassifier\n",
    "from sklearn.ensemble import BaggingClassifier, ExtraTreesClassifier, RandomForestClassifier,GradientBoostingClassifier\n",
    "from sklearn.discriminant_analysis import LinearDiscriminantAnalysis\n",
    "from sklearn.naive_bayes import GaussianNB\n",
    "from xgboost import XGBClassifier, XGBRFClassifier\n",
    "from imblearn import over_sampling"
   ]
  },
  {
   "cell_type": "code",
   "execution_count": 3,
   "id": "physical-omega",
   "metadata": {
    "ExecuteTime": {
     "end_time": "2021-03-23T12:55:12.617381Z",
     "start_time": "2021-03-23T12:55:12.580081Z"
    }
   },
   "outputs": [],
   "source": [
    "# load binaries\n",
    "trIeng_df=pd.read_pickle(\"../data/trIeng_df.pkl\")"
   ]
  },
  {
   "cell_type": "code",
   "execution_count": 4,
   "id": "monetary-scoop",
   "metadata": {
    "ExecuteTime": {
     "end_time": "2021-03-23T12:56:00.652422Z",
     "start_time": "2021-03-23T12:56:00.634766Z"
    },
    "run_control": {
     "marked": true
    }
   },
   "outputs": [],
   "source": [
    "#assign predictor and target variables\n",
    "\n",
    "y= trIeng_df['PotentialFraud']\n",
    "X= trIeng_df.drop('PotentialFraud', axis=1)\n",
    "\n",
    "X_tr, X_te, y_tr, y_te = train_test_split(X, y, test_size = 0.2, random_state = 0, stratify = y)"
   ]
  },
  {
   "cell_type": "code",
   "execution_count": null,
   "id": "waiting-philip",
   "metadata": {
    "ExecuteTime": {
     "end_time": "2021-03-11T23:19:25.855475Z",
     "start_time": "2021-03-11T23:19:25.851533Z"
    }
   },
   "outputs": [],
   "source": []
  },
  {
   "cell_type": "code",
   "execution_count": 5,
   "id": "ecological-enough",
   "metadata": {
    "ExecuteTime": {
     "end_time": "2021-03-23T12:56:07.929330Z",
     "start_time": "2021-03-23T12:56:07.908068Z"
    }
   },
   "outputs": [],
   "source": [
    "# Standard Scale Data \n",
    "scaler = StandardScaler()\n",
    "X_tr_scl= pd.DataFrame(scaler.fit_transform(X_tr), columns=X.columns)\n",
    "X_te_scl= pd.DataFrame(scaler.transform(X_te), columns=X.columns)"
   ]
  },
  {
   "cell_type": "code",
   "execution_count": 6,
   "id": "ancient-insert",
   "metadata": {
    "ExecuteTime": {
     "end_time": "2021-03-23T12:56:08.702722Z",
     "start_time": "2021-03-23T12:56:08.632490Z"
    }
   },
   "outputs": [],
   "source": [
    "# Balance data by oversampling using SMOTE\n",
    "oversample = over_sampling.SMOTE(random_state=0)\n",
    "X_tr_scl_SMOTE, y_tr_SMOTE = oversample.fit_resample(X_tr_scl, y_tr)"
   ]
  },
  {
   "cell_type": "code",
   "execution_count": 7,
   "id": "bronze-brand",
   "metadata": {
    "ExecuteTime": {
     "end_time": "2021-03-23T12:56:09.230850Z",
     "start_time": "2021-03-23T12:56:09.212840Z"
    }
   },
   "outputs": [],
   "source": [
    "# Min Max Scale Data ( for scaling sparse data)\n",
    "MMscaler = MinMaxScaler()\n",
    "X_tr_mms = pd.DataFrame(MMscaler.fit_transform(X_tr), columns=X.columns)\n",
    "X_te_mms = pd.DataFrame(MMscaler.transform(X_te), columns=X.columns)"
   ]
  },
  {
   "cell_type": "code",
   "execution_count": 8,
   "id": "sunset-victim",
   "metadata": {
    "ExecuteTime": {
     "end_time": "2021-03-23T12:56:09.837196Z",
     "start_time": "2021-03-23T12:56:09.796610Z"
    }
   },
   "outputs": [],
   "source": [
    "# Balance data by oversampling using SMOTE\n",
    "oversample = over_sampling.SMOTE(random_state=0)\n",
    "X_tr_mms_SMOTE, y_tr_SMOTE = oversample.fit_resample(X_tr_mms, y_tr)"
   ]
  },
  {
   "cell_type": "code",
   "execution_count": 9,
   "id": "under-convertible",
   "metadata": {
    "ExecuteTime": {
     "end_time": "2021-03-23T12:56:13.471908Z",
     "start_time": "2021-03-23T12:56:13.468095Z"
    }
   },
   "outputs": [],
   "source": [
    "# make custom F0.5 scorer for sklearn\n",
    "scorerF0_5 = make_scorer(fbeta_score, beta=0.5)\n"
   ]
  },
  {
   "cell_type": "code",
   "execution_count": 10,
   "id": "atmospheric-circle",
   "metadata": {
    "ExecuteTime": {
     "end_time": "2021-03-23T12:56:18.521365Z",
     "start_time": "2021-03-23T12:56:18.512208Z"
    }
   },
   "outputs": [],
   "source": [
    "# # Function to return model Recall, Accuracy and F0.5 scores\n",
    "def evaluate_model(model, X_train, y_train, X_test, y_test):\n",
    "    '''\n",
    "    Function to return model Recall and Accuracy scores\n",
    "    Arguments:\n",
    "    - model\n",
    "    - X_train data\n",
    "    - y_train data\n",
    "    - X_test data\n",
    "    - y_test data\n",
    "    '''\n",
    "    print(model,'\\n')\n",
    "    print('Train Recall score: {.3f}, Test Recall score: {.3f}'.format(recall_score(y_train, model.predict(X_train)),recall_score(y_test, model.predict(X_test))))\n",
    "    print('-'*60)\n",
    "    print('Train Precision score: {.3f}, Test Precision score: {.3f}'.format(precision_score(y_train, model.predict(X_train)),precision_score(y_test, model.predict(X_test))))\n",
    "    print('-'*60)\n",
    "    print('Train F0.5 score: {.3f}, Test F0.5 score: {.3f}'.format(fbeta_score(y_train, model.predict(X_train),beta=0.5),fbeta_score(y_test, model.predict(X_test),beta=0.5)))\n",
    "    print('-'*60)\n",
    "    print('Train F2 score: {.3f}, Test F2 score: {.3f}'.format(fbeta_score(y_train, model.predict(X_train),beta=2),fbeta_score(y_test, model.predict(X_test),beta=2)))\n",
    "    print('-'*60)\n",
    "    print('Train Confusion Matrix')\n",
    "    print(confusion_matrix(y_train, model.predict(X_train)))\n",
    "    print('Test Confusion Matrix')\n",
    "    print(confusion_matrix(y_test, model.predict(X_test)))\n",
    "    print('-'*60)"
   ]
  },
  {
   "cell_type": "markdown",
   "id": "palestinian-northwest",
   "metadata": {
    "ExecuteTime": {
     "end_time": "2021-03-09T11:36:49.167132Z",
     "start_time": "2021-03-09T11:36:49.163837Z"
    }
   },
   "source": [
    "#  Baseline Model Selection with Original Data without Cross Validation"
   ]
  },
  {
   "cell_type": "code",
   "execution_count": 11,
   "id": "found-headquarters",
   "metadata": {
    "ExecuteTime": {
     "end_time": "2021-03-23T12:56:21.485298Z",
     "start_time": "2021-03-23T12:56:21.479519Z"
    }
   },
   "outputs": [],
   "source": [
    "models = [\n",
    "    LinearDiscriminantAnalysis(), GaussianNB(), SVC(gamma='auto'),  LinearSVC(), # NuSVC(gamma='auto'),\n",
    "    SGDClassifier(max_iter=100, tol=1e-3), KNeighborsClassifier(),\n",
    "    LogisticRegression(solver='liblinear', penalty='l1'), LogisticRegressionCV(solver='liblinear', penalty='l1',cv=3),\n",
    "    BaggingClassifier(), ExtraTreesClassifier(n_estimators=300),\n",
    "    RandomForestClassifier(n_estimators=300), GradientBoostingClassifier(),XGBClassifier(), XGBRFClassifier()\n",
    "]"
   ]
  },
  {
   "cell_type": "code",
   "execution_count": 12,
   "id": "collectible-easter",
   "metadata": {
    "ExecuteTime": {
     "end_time": "2021-03-23T12:56:24.585238Z",
     "start_time": "2021-03-23T12:56:24.578132Z"
    }
   },
   "outputs": [],
   "source": [
    "def score_model(X_train, y_train, X_test, y_test, estimator, **kwargs):\n",
    "    \"\"\"\n",
    "    Test various estimators.\n",
    "    \"\"\"\n",
    "    model = Pipeline([('estimator', estimator)])\n",
    "\n",
    "    # Instantiate the classification model and visualizer\n",
    "    model.fit(X_train, y_train, **kwargs)\n",
    "\n",
    "    expected  = y_test\n",
    "    predicted = model.predict(X_test)\n",
    "\n",
    "    # Compute and return F1 (harmonic mean of precision and recall)\n",
    "    print(\"Test Metrics, {}: Recall: {:.3f}, Precision: {:.3f}, F0.5: {:.3f}\".format(estimator.__class__.__name__,\n",
    "                                                                      recall_score(expected, predicted), \n",
    "                                                                      precision_score(expected, predicted),\n",
    "                                                                      fbeta_score(expected, predicted, beta=0.5)))"
   ]
  },
  {
   "cell_type": "code",
   "execution_count": 13,
   "id": "social-estimate",
   "metadata": {
    "ExecuteTime": {
     "end_time": "2021-03-23T12:56:48.363085Z",
     "start_time": "2021-03-23T12:56:27.672565Z"
    },
    "scrolled": false
   },
   "outputs": [
    {
     "name": "stdout",
     "output_type": "stream",
     "text": [
      "Test Metrics, LinearDiscriminantAnalysis: Recall: 0.455, Precision: 0.741, F0.5: 0.658\n",
      "----------------------------------------------------------------------------------------------------\n",
      "Test Metrics, GaussianNB: Recall: 0.568, Precision: 0.667, F0.5: 0.644\n",
      "----------------------------------------------------------------------------------------------------\n"
     ]
    },
    {
     "name": "stderr",
     "output_type": "stream",
     "text": [
      "/Users/RK/opt/anaconda3/lib/python3.8/site-packages/sklearn/metrics/_classification.py:1221: UndefinedMetricWarning: Precision is ill-defined and being set to 0.0 due to no predicted samples. Use `zero_division` parameter to control this behavior.\n",
      "  _warn_prf(average, modifier, msg_start, len(result))\n"
     ]
    },
    {
     "name": "stdout",
     "output_type": "stream",
     "text": [
      "Test Metrics, SVC: Recall: 0.000, Precision: 0.000, F0.5: 0.000\n",
      "----------------------------------------------------------------------------------------------------\n"
     ]
    },
    {
     "name": "stderr",
     "output_type": "stream",
     "text": [
      "/Users/RK/opt/anaconda3/lib/python3.8/site-packages/sklearn/svm/_base.py:976: ConvergenceWarning: Liblinear failed to converge, increase the number of iterations.\n",
      "  warnings.warn(\"Liblinear failed to converge, increase \"\n",
      "/Users/RK/opt/anaconda3/lib/python3.8/site-packages/sklearn/metrics/_classification.py:1221: UndefinedMetricWarning: Precision is ill-defined and being set to 0.0 due to no predicted samples. Use `zero_division` parameter to control this behavior.\n",
      "  _warn_prf(average, modifier, msg_start, len(result))\n"
     ]
    },
    {
     "name": "stdout",
     "output_type": "stream",
     "text": [
      "Test Metrics, LinearSVC: Recall: 0.000, Precision: 0.000, F0.5: 0.000\n",
      "----------------------------------------------------------------------------------------------------\n",
      "Test Metrics, SGDClassifier: Recall: 0.602, Precision: 0.515, F0.5: 0.530\n",
      "----------------------------------------------------------------------------------------------------\n",
      "Test Metrics, KNeighborsClassifier: Recall: 0.489, Precision: 0.623, F0.5: 0.591\n",
      "----------------------------------------------------------------------------------------------------\n",
      "Test Metrics, LogisticRegression: Recall: 0.500, Precision: 0.746, F0.5: 0.679\n",
      "----------------------------------------------------------------------------------------------------\n"
     ]
    },
    {
     "name": "stderr",
     "output_type": "stream",
     "text": [
      "/Users/RK/opt/anaconda3/lib/python3.8/site-packages/sklearn/svm/_base.py:976: ConvergenceWarning: Liblinear failed to converge, increase the number of iterations.\n",
      "  warnings.warn(\"Liblinear failed to converge, increase \"\n",
      "/Users/RK/opt/anaconda3/lib/python3.8/site-packages/sklearn/svm/_base.py:976: ConvergenceWarning: Liblinear failed to converge, increase the number of iterations.\n",
      "  warnings.warn(\"Liblinear failed to converge, increase \"\n",
      "/Users/RK/opt/anaconda3/lib/python3.8/site-packages/sklearn/svm/_base.py:976: ConvergenceWarning: Liblinear failed to converge, increase the number of iterations.\n",
      "  warnings.warn(\"Liblinear failed to converge, increase \"\n"
     ]
    },
    {
     "name": "stdout",
     "output_type": "stream",
     "text": [
      "Test Metrics, LogisticRegressionCV: Recall: 0.500, Precision: 0.746, F0.5: 0.679\n",
      "----------------------------------------------------------------------------------------------------\n",
      "Test Metrics, BaggingClassifier: Recall: 0.443, Precision: 0.684, F0.5: 0.617\n",
      "----------------------------------------------------------------------------------------------------\n",
      "Test Metrics, ExtraTreesClassifier: Recall: 0.409, Precision: 0.679, F0.5: 0.600\n",
      "----------------------------------------------------------------------------------------------------\n",
      "Test Metrics, RandomForestClassifier: Recall: 0.489, Precision: 0.768, F0.5: 0.689\n",
      "----------------------------------------------------------------------------------------------------\n",
      "Test Metrics, GradientBoostingClassifier: Recall: 0.602, Precision: 0.736, F0.5: 0.705\n",
      "----------------------------------------------------------------------------------------------------\n",
      "Test Metrics, XGBClassifier: Recall: 0.557, Precision: 0.742, F0.5: 0.696\n",
      "----------------------------------------------------------------------------------------------------\n",
      "Test Metrics, XGBRFClassifier: Recall: 0.534, Precision: 0.746, F0.5: 0.691\n",
      "----------------------------------------------------------------------------------------------------\n"
     ]
    }
   ],
   "source": [
    "for model in models:\n",
    "    score_model(X_tr, y_tr, X_te, y_te, model)\n",
    "    print('-'*100)"
   ]
  },
  {
   "cell_type": "code",
   "execution_count": null,
   "id": "classical-champagne",
   "metadata": {},
   "outputs": [],
   "source": []
  },
  {
   "cell_type": "markdown",
   "id": "integral-japan",
   "metadata": {},
   "source": [
    "# Baseline Model Selection with Original data and Cross Validation\n",
    "Baseline models with 5-fold Cross validation"
   ]
  },
  {
   "cell_type": "code",
   "execution_count": 17,
   "id": "miniature-wrong",
   "metadata": {
    "ExecuteTime": {
     "end_time": "2021-03-17T23:23:20.349707Z",
     "start_time": "2021-03-17T23:23:20.344308Z"
    }
   },
   "outputs": [],
   "source": [
    "models = [\n",
    "    LinearDiscriminantAnalysis(), GaussianNB(), SVC(gamma='scale'), LinearSVC(max_iter=2000), #NuSVC(gamma='auto'), \n",
    "    SGDClassifier(max_iter=300), KNeighborsClassifier(),\n",
    "    LogisticRegression(solver='liblinear', penalty='l1'), #LogisticRegressionCV(solver='liblinear', penalty='l1',cv=3),\n",
    "    BaggingClassifier(), ExtraTreesClassifier(n_estimators=300),\n",
    "    RandomForestClassifier(n_estimators=300), GradientBoostingClassifier(),XGBClassifier(), XGBRFClassifier()\n",
    "]"
   ]
  },
  {
   "cell_type": "code",
   "execution_count": 18,
   "id": "numerical-measure",
   "metadata": {
    "ExecuteTime": {
     "end_time": "2021-03-17T23:23:23.119740Z",
     "start_time": "2021-03-17T23:23:23.112523Z"
    }
   },
   "outputs": [],
   "source": [
    "def score_modelCV(X_train, y_train, X_test, y_test, estimator, **kwargs):\n",
    "    \"\"\"\n",
    "    Test various estimators with 5 fold Stratified Cross Validation.\n",
    "    \"\"\"\n",
    "    # Stratified Cross Validation \n",
    "    skf = StratifiedKFold(n_splits = 5, random_state = 0, shuffle = True)\n",
    "    model = Pipeline([('estimator', estimator)])\n",
    "\n",
    "    # Instantiate the classification model and visualizer\n",
    "    cvs = GridSearchCV(estimator= model, param_grid={}, scoring='recall', cv=skf, n_jobs=-1)\n",
    "    cvs_out= cvs.fit(X_train, y_train, **kwargs)\n",
    "    \n",
    "    expected  = y_test\n",
    "    predicted = cvs_out.predict(X_test)\n",
    "\n",
    "    # Compute and return Recall, Precision, F1 (harmonic mean of precision and recall)\n",
    "    print(\"Test Metrics, {}: Recall: {:.3f}, Precision: {:.3f}, F0.5: {:.3f}, F2: {:.3f}\".format(estimator.__class__.__name__,\n",
    "                                                                      recall_score(expected, predicted), \n",
    "                                                                      precision_score(expected, predicted),\n",
    "                                                                      fbeta_score(expected, predicted, beta=0.5),\n",
    "                                                                      fbeta_score(expected, predicted, beta=2)))"
   ]
  },
  {
   "cell_type": "code",
   "execution_count": 19,
   "id": "boring-capacity",
   "metadata": {
    "ExecuteTime": {
     "end_time": "2021-03-17T23:23:54.331650Z",
     "start_time": "2021-03-17T23:23:24.966044Z"
    },
    "scrolled": false
   },
   "outputs": [
    {
     "name": "stdout",
     "output_type": "stream",
     "text": [
      "Test Metrics, LinearDiscriminantAnalysis: Recall: 0.455, Precision: 0.741, F0.5: 0.658, F2: 0.493\n",
      "----------------------------------------------------------------------------------------------------\n",
      "Test Metrics, GaussianNB: Recall: 0.568, Precision: 0.667, F0.5: 0.644, F2: 0.585\n",
      "----------------------------------------------------------------------------------------------------\n",
      "Test Metrics, SVC: Recall: 0.330, Precision: 0.853, F0.5: 0.647, F2: 0.376\n",
      "----------------------------------------------------------------------------------------------------\n"
     ]
    },
    {
     "name": "stderr",
     "output_type": "stream",
     "text": [
      "/Users/RK/opt/anaconda3/lib/python3.8/site-packages/sklearn/svm/_base.py:976: ConvergenceWarning: Liblinear failed to converge, increase the number of iterations.\n",
      "  warnings.warn(\"Liblinear failed to converge, increase \"\n"
     ]
    },
    {
     "name": "stdout",
     "output_type": "stream",
     "text": [
      "Test Metrics, LinearSVC: Recall: 0.727, Precision: 0.516, F0.5: 0.548, F2: 0.672\n",
      "----------------------------------------------------------------------------------------------------\n",
      "Test Metrics, SGDClassifier: Recall: 0.670, Precision: 0.500, F0.5: 0.527, F2: 0.628\n",
      "----------------------------------------------------------------------------------------------------\n",
      "Test Metrics, KNeighborsClassifier: Recall: 0.489, Precision: 0.623, F0.5: 0.591, F2: 0.511\n",
      "----------------------------------------------------------------------------------------------------\n",
      "Test Metrics, LogisticRegression: Recall: 0.500, Precision: 0.746, F0.5: 0.679, F2: 0.535\n",
      "----------------------------------------------------------------------------------------------------\n",
      "Test Metrics, BaggingClassifier: Recall: 0.432, Precision: 0.644, F0.5: 0.586, F2: 0.462\n",
      "----------------------------------------------------------------------------------------------------\n",
      "Test Metrics, ExtraTreesClassifier: Recall: 0.409, Precision: 0.692, F0.5: 0.608, F2: 0.446\n",
      "----------------------------------------------------------------------------------------------------\n",
      "Test Metrics, RandomForestClassifier: Recall: 0.477, Precision: 0.750, F0.5: 0.673, F2: 0.515\n",
      "----------------------------------------------------------------------------------------------------\n",
      "Test Metrics, GradientBoostingClassifier: Recall: 0.591, Precision: 0.743, F0.5: 0.707, F2: 0.616\n",
      "----------------------------------------------------------------------------------------------------\n",
      "Test Metrics, XGBClassifier: Recall: 0.557, Precision: 0.742, F0.5: 0.696, F2: 0.586\n",
      "----------------------------------------------------------------------------------------------------\n",
      "Test Metrics, XGBRFClassifier: Recall: 0.534, Precision: 0.746, F0.5: 0.691, F2: 0.566\n",
      "----------------------------------------------------------------------------------------------------\n"
     ]
    }
   ],
   "source": [
    "for model in models:\n",
    "    score_modelCV(X_tr, y_tr, X_te, y_te, model)\n",
    "    print('-'*100)"
   ]
  },
  {
   "cell_type": "code",
   "execution_count": null,
   "id": "normal-detail",
   "metadata": {},
   "outputs": [],
   "source": []
  }
 ],
 "metadata": {
  "kernelspec": {
   "display_name": "Python 3",
   "language": "python",
   "name": "python3"
  },
  "language_info": {
   "codemirror_mode": {
    "name": "ipython",
    "version": 3
   },
   "file_extension": ".py",
   "mimetype": "text/x-python",
   "name": "python",
   "nbconvert_exporter": "python",
   "pygments_lexer": "ipython3",
   "version": "3.8.5"
  },
  "toc": {
   "base_numbering": 1,
   "nav_menu": {},
   "number_sections": true,
   "sideBar": true,
   "skip_h1_title": false,
   "title_cell": "Table of Contents",
   "title_sidebar": "Contents",
   "toc_cell": true,
   "toc_position": {},
   "toc_section_display": true,
   "toc_window_display": false
  },
  "varInspector": {
   "cols": {
    "lenName": 16,
    "lenType": 16,
    "lenVar": 40
   },
   "kernels_config": {
    "python": {
     "delete_cmd_postfix": "",
     "delete_cmd_prefix": "del ",
     "library": "var_list.py",
     "varRefreshCmd": "print(var_dic_list())"
    },
    "r": {
     "delete_cmd_postfix": ") ",
     "delete_cmd_prefix": "rm(",
     "library": "var_list.r",
     "varRefreshCmd": "cat(var_dic_list()) "
    }
   },
   "types_to_exclude": [
    "module",
    "function",
    "builtin_function_or_method",
    "instance",
    "_Feature"
   ],
   "window_display": false
  }
 },
 "nbformat": 4,
 "nbformat_minor": 5
}
