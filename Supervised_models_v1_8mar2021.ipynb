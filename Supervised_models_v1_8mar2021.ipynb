{
 "cells": [
  {
   "cell_type": "markdown",
   "id": "industrial-pillow",
   "metadata": {
    "toc": true
   },
   "source": [
    "<h1>Table of Contents<span class=\"tocSkip\"></span></h1>\n",
    "<div class=\"toc\"><ul class=\"toc-item\"><li><span><a href=\"#KNN-Model\" data-toc-modified-id=\"KNN-Model-1\"><span class=\"toc-item-num\">1&nbsp;&nbsp;</span>KNN Model</a></span></li><li><span><a href=\"#XGBoost-Model\" data-toc-modified-id=\"XGBoost-Model-2\"><span class=\"toc-item-num\">2&nbsp;&nbsp;</span>XGBoost Model</a></span></li><li><span><a href=\"#XGBoost-Random-Forest-Classifier\" data-toc-modified-id=\"XGBoost-Random-Forest-Classifier-3\"><span class=\"toc-item-num\">3&nbsp;&nbsp;</span>XGBoost Random Forest Classifier</a></span></li><li><span><a href=\"#XGBoost-Feature-Selection\" data-toc-modified-id=\"XGBoost-Feature-Selection-4\"><span class=\"toc-item-num\">4&nbsp;&nbsp;</span>XGBoost Feature Selection</a></span></li><li><span><a href=\"#Model-Evaluation-with-ROC-AUC\" data-toc-modified-id=\"Model-Evaluation-with-ROC-AUC-5\"><span class=\"toc-item-num\">5&nbsp;&nbsp;</span>Model Evaluation with ROC AUC</a></span></li><li><span><a href=\"#Random-Forest-Classifier\" data-toc-modified-id=\"Random-Forest-Classifier-6\"><span class=\"toc-item-num\">6&nbsp;&nbsp;</span>Random Forest Classifier</a></span></li><li><span><a href=\"#Gradient-Boosting-Classifier\" data-toc-modified-id=\"Gradient-Boosting-Classifier-7\"><span class=\"toc-item-num\">7&nbsp;&nbsp;</span>Gradient Boosting Classifier</a></span><ul class=\"toc-item\"><li><span><a href=\"#Gradient-Boosting-Classifier-using-PCA\" data-toc-modified-id=\"Gradient-Boosting-Classifier-using-PCA-7.1\"><span class=\"toc-item-num\">7.1&nbsp;&nbsp;</span>Gradient Boosting Classifier using PCA</a></span></li></ul></li><li><span><a href=\"#Support-Vector-Machine\" data-toc-modified-id=\"Support-Vector-Machine-8\"><span class=\"toc-item-num\">8&nbsp;&nbsp;</span>Support Vector Machine</a></span></li></ul></div>"
   ]
  },
  {
   "cell_type": "code",
   "execution_count": 20,
   "id": "indie-essex",
   "metadata": {
    "ExecuteTime": {
     "end_time": "2021-03-09T14:23:37.762870Z",
     "start_time": "2021-03-09T14:23:37.727209Z"
    }
   },
   "outputs": [
    {
     "ename": "ModuleNotFoundError",
     "evalue": "No module named 'PlotFunctions'",
     "output_type": "error",
     "traceback": [
      "\u001b[0;31m---------------------------------------------------------------------------\u001b[0m",
      "\u001b[0;31mModuleNotFoundError\u001b[0m                       Traceback (most recent call last)",
      "\u001b[0;32m<ipython-input-20-7fa3b0125619>\u001b[0m in \u001b[0;36m<module>\u001b[0;34m\u001b[0m\n\u001b[1;32m     25\u001b[0m \u001b[0;32mfrom\u001b[0m \u001b[0msklearn\u001b[0m\u001b[0;34m.\u001b[0m\u001b[0mmanifold\u001b[0m \u001b[0;32mimport\u001b[0m \u001b[0mTSNE\u001b[0m\u001b[0;34m\u001b[0m\u001b[0;34m\u001b[0m\u001b[0m\n\u001b[1;32m     26\u001b[0m \u001b[0;32mfrom\u001b[0m \u001b[0msklearn\u001b[0m \u001b[0;32mimport\u001b[0m \u001b[0msvm\u001b[0m\u001b[0;34m\u001b[0m\u001b[0;34m\u001b[0m\u001b[0m\n\u001b[0;32m---> 27\u001b[0;31m \u001b[0;32mfrom\u001b[0m \u001b[0mPlotFunctions\u001b[0m \u001b[0;32mimport\u001b[0m \u001b[0mplot_model\u001b[0m\u001b[0;34m\u001b[0m\u001b[0;34m\u001b[0m\u001b[0m\n\u001b[0m\u001b[1;32m     28\u001b[0m \u001b[0;32mfrom\u001b[0m \u001b[0mmpl_toolkits\u001b[0m\u001b[0;34m.\u001b[0m\u001b[0mmplot3d\u001b[0m \u001b[0;32mimport\u001b[0m \u001b[0mAxes3D\u001b[0m\u001b[0;34m\u001b[0m\u001b[0;34m\u001b[0m\u001b[0m\n\u001b[1;32m     29\u001b[0m \u001b[0;34m\u001b[0m\u001b[0m\n",
      "\u001b[0;31mModuleNotFoundError\u001b[0m: No module named 'PlotFunctions'"
     ]
    }
   ],
   "source": [
    "import pandas as pd\n",
    "import numpy as np\n",
    "import seaborn as sns\n",
    "import matplotlib.pyplot as plt\n",
    "import time\n",
    "\n",
    "%matplotlib inline\n",
    "plt.rcParams['figure.figsize'] = (20, 10)\n",
    "sns.set(style = \"whitegrid\")\n",
    "pd.set_option('display.max_columns', 500)\n",
    "pd.set_option('display.max_rows', 500)\n",
    "\n",
    "import random\n",
    "import statsmodels.api as sm\n",
    "import sklearn.model_selection as ms\n",
    "from xgboost import XGBClassifier, XGBRFClassifier\n",
    "from sklearn.linear_model import LinearRegression, Ridge, RidgeCV, Lasso, LassoCV, ElasticNet\n",
    "from sklearn.ensemble import RandomForestClassifier, GradientBoostingClassifier\n",
    "from sklearn.model_selection import train_test_split, GridSearchCV, KFold, cross_val_score, StratifiedKFold\n",
    "from sklearn.preprocessing import OrdinalEncoder, OneHotEncoder, StandardScaler,LabelEncoder\n",
    "from sklearn import neighbors\n",
    "from sklearn.metrics import mean_squared_log_error, mean_squared_error, confusion_matrix, roc_auc_score, f1_score, plot_roc_curve, roc_auc_score, roc_curve, RocCurveDisplay, auc\n",
    "from sklearn.tree import DecisionTreeRegressor, export_graphviz\n",
    "from sklearn.decomposition import PCA\n",
    "from sklearn.manifold import TSNE\n",
    "from sklearn import svm\n",
    "#from PlotFunctions import plot_model\n",
    "from mpl_toolkits.mplot3d import Axes3D\n",
    "\n",
    "from IPython.core.display import display, HTML\n",
    "display(HTML(\"<style>.container { width:100% !important; }</style>\"))"
   ]
  },
  {
   "cell_type": "code",
   "execution_count": 2,
   "id": "taken-tribune",
   "metadata": {
    "ExecuteTime": {
     "end_time": "2021-03-09T13:53:43.215301Z",
     "start_time": "2021-03-09T13:53:43.207896Z"
    }
   },
   "outputs": [],
   "source": [
    "size=15\n",
    "params = {'legend.fontsize': 'large',\n",
    "          'figure.figsize': (20,8),\n",
    "          'axes.labelsize': size*1.1,\n",
    "          'axes.titlesize': size*2,\n",
    "          'xtick.labelsize': size*1.1,\n",
    "          'ytick.labelsize': size*1.1,\n",
    "          'axes.titlepad': 25,\n",
    "          'figure.titlesize': size*2,\n",
    "          'legend.fontsize': size,\n",
    "            'legend.title_fontsize': size*1.1\n",
    "         }\n",
    "\n",
    "plt.rcParams.update(params)\n",
    "\n",
    "sns.set_style(\"whitegrid\")"
   ]
  },
  {
   "cell_type": "code",
   "execution_count": 3,
   "id": "physical-omega",
   "metadata": {
    "ExecuteTime": {
     "end_time": "2021-03-09T13:53:45.303317Z",
     "start_time": "2021-03-09T13:53:43.240214Z"
    }
   },
   "outputs": [],
   "source": [
    "# load binaries\n",
    "trIeng_df_dum = pd.read_pickle(\"./data/trIeng_df_dum.pkl\")\n",
    "trIeng_df_undum = pd.read_pickle(\"./data/trIeng_df_undum.pkl\")"
   ]
  },
  {
   "cell_type": "code",
   "execution_count": 4,
   "id": "monetary-scoop",
   "metadata": {
    "ExecuteTime": {
     "end_time": "2021-03-09T13:53:47.510110Z",
     "start_time": "2021-03-09T13:53:47.489074Z"
    }
   },
   "outputs": [],
   "source": [
    "#assign predictor and target variables\n",
    "\n",
    "# undummified label encoded version\n",
    "yalt_le= trIeng_df_undum['PotentialFraud']\n",
    "Xalt_le=trIeng_df_undum.drop('PotentialFraud', axis=1)\n",
    "\n",
    "Xalt_le_train, Xalt_le_test, yalt_le_train, yalt_le_test = train_test_split(Xalt_le, yalt_le, test_size = 0.2, random_state = 0,stratify=yalt_le)"
   ]
  },
  {
   "cell_type": "markdown",
   "id": "palestinian-northwest",
   "metadata": {
    "ExecuteTime": {
     "end_time": "2021-03-09T11:36:49.167132Z",
     "start_time": "2021-03-09T11:36:49.163837Z"
    }
   },
   "source": [
    "#  KNN Model"
   ]
  },
  {
   "cell_type": "code",
   "execution_count": 12,
   "id": "after-blame",
   "metadata": {
    "ExecuteTime": {
     "end_time": "2021-03-09T11:51:13.754031Z",
     "start_time": "2021-03-09T11:51:13.420663Z"
    }
   },
   "outputs": [
    {
     "data": {
      "text/plain": [
       "0.8747609942638623"
      ]
     },
     "execution_count": 12,
     "metadata": {},
     "output_type": "execute_result"
    }
   ],
   "source": [
    "# knn of entire dataset\n",
    "\n",
    "knn = neighbors.KNeighborsClassifier()\n",
    "## set the possible parameters from 3 to 30\n",
    "\n",
    "# grid_param = {'n_neighbors': range(3, 31), 'metric': ['manhattan', 'minkowski', 'euclidean']}\n",
    "# para_search = GridSearchCV(estimator=knn, param_grid=grid_param, scoring='accuracy', cv=5, return_train_score=True)\n",
    "# para_search = para_search.fit(X, y.astype('int')) # y target must be integer type\n",
    "\n",
    "knn.fit(Xalt_le, yalt_le)\n",
    "knn.score(Xalt_le, yalt_le)"
   ]
  },
  {
   "cell_type": "code",
   "execution_count": 13,
   "id": "arctic-geometry",
   "metadata": {
    "ExecuteTime": {
     "end_time": "2021-03-09T11:51:19.502776Z",
     "start_time": "2021-03-09T11:51:19.032258Z"
    }
   },
   "outputs": [
    {
     "name": "stderr",
     "output_type": "stream",
     "text": [
      "/Users/RK/opt/anaconda3/lib/python3.8/site-packages/sklearn/model_selection/_split.py:293: FutureWarning: Setting a random_state has no effect since shuffle is False. This will raise an error in 0.24. You should leave random_state to its default (None), or set shuffle=True.\n",
      "  warnings.warn(\n"
     ]
    },
    {
     "data": {
      "text/plain": [
       "array([0.86873508, 0.8424821 , 0.81100478, 0.81100478, 0.84688995])"
      ]
     },
     "execution_count": 13,
     "metadata": {},
     "output_type": "execute_result"
    }
   ],
   "source": [
    "strat= ms.StratifiedKFold(n_splits=5, random_state=0)\n",
    "scores = ms.cross_val_score(estimator=knn, X=Xalt_le, y=yalt_le, cv=5)\n",
    "scores"
   ]
  },
  {
   "cell_type": "code",
   "execution_count": 76,
   "id": "improved-banner",
   "metadata": {
    "ExecuteTime": {
     "end_time": "2021-03-09T12:33:27.745897Z",
     "start_time": "2021-03-09T12:33:27.417308Z"
    }
   },
   "outputs": [
    {
     "name": "stdout",
     "output_type": "stream",
     "text": [
      "0.8690974297668859\n",
      "0.8281622911694511\n"
     ]
    }
   ],
   "source": [
    "# knn of train split only\n",
    "\n",
    "knn = neighbors.KNeighborsClassifier()\n",
    "## set the possible parameters from 3 to 30\n",
    "\n",
    "# grid_param = {'n_neighbors': range(3, 31), 'metric': ['manhattan', 'minkowski', 'euclidean']}\n",
    "# para_search = GridSearchCV(estimator=knn, param_grid=grid_param, scoring='accuracy', cv=5, return_train_score=True)\n",
    "# para_search = para_search.fit(X, y.astype('int')) # y target must be integer type\n",
    "\n",
    "knn.fit(Xalt_le_train, yalt_le_train)\n",
    "print(knn.score(Xalt_le_train, yalt_le_train))\n",
    "print(knn.score(Xalt_le_test, yalt_le_test))"
   ]
  },
  {
   "cell_type": "code",
   "execution_count": 15,
   "id": "electronic-presentation",
   "metadata": {
    "ExecuteTime": {
     "end_time": "2021-03-09T11:51:39.684103Z",
     "start_time": "2021-03-09T11:51:39.359235Z"
    }
   },
   "outputs": [
    {
     "name": "stderr",
     "output_type": "stream",
     "text": [
      "/Users/RK/opt/anaconda3/lib/python3.8/site-packages/sklearn/model_selection/_split.py:293: FutureWarning: Setting a random_state has no effect since shuffle is False. This will raise an error in 0.24. You should leave random_state to its default (None), or set shuffle=True.\n",
      "  warnings.warn(\n"
     ]
    },
    {
     "data": {
      "text/plain": [
       "array([0.82686567, 0.82985075, 0.84477612, 0.82934132, 0.82634731])"
      ]
     },
     "execution_count": 15,
     "metadata": {},
     "output_type": "execute_result"
    }
   ],
   "source": [
    "strat= ms.StratifiedKFold(n_splits=5, random_state=0)\n",
    "scores = ms.cross_val_score(estimator=knn, X=Xalt_le_train, y=yalt_le_train, cv=5)\n",
    "scores"
   ]
  },
  {
   "cell_type": "code",
   "execution_count": 16,
   "id": "indonesian-welding",
   "metadata": {
    "ExecuteTime": {
     "end_time": "2021-03-09T11:52:29.128713Z",
     "start_time": "2021-03-09T11:51:48.223226Z"
    }
   },
   "outputs": [],
   "source": [
    "# Test error vs. number of folds\n",
    "\n",
    "mean_error = [] \n",
    "std_error = [] \n",
    "kfold = range(3, 50) \n",
    "\n",
    "for i in kfold:\n",
    "    scores = ms.cross_val_score(knn, Xalt_le, yalt_le, cv=i) \n",
    "    mean_error.append(1 - scores.mean()) \n",
    "    std_error.append(scores.std())"
   ]
  },
  {
   "cell_type": "code",
   "execution_count": 17,
   "id": "intense-camcorder",
   "metadata": {
    "ExecuteTime": {
     "end_time": "2021-03-09T11:52:32.375892Z",
     "start_time": "2021-03-09T11:52:31.746676Z"
    },
    "scrolled": false
   },
   "outputs": [
    {
     "data": {
      "image/png": "[encoded data removed]",
      "text/plain": [
       "<Figure size 1440x576 with 1 Axes>"
      ]
     },
     "metadata": {},
     "output_type": "display_data"
    }
   ],
   "source": [
    "s1 = plt.scatter(kfold, mean_error, label='mean error') \n",
    "plt.plot(kfold, mean_error)\n",
    "s2 = plt.scatter(kfold, std_error, color='red', label='std') \n",
    "plt.plot(kfold, std_error, color='red')\n",
    "plt.xlim(0, 50)\n",
    "plt.xlabel('Number of folds')\n",
    "plt.legend(handles=[s1, s2], loc=2)\n",
    "plt.show()"
   ]
  },
  {
   "cell_type": "code",
   "execution_count": 19,
   "id": "gentle-monroe",
   "metadata": {
    "ExecuteTime": {
     "end_time": "2021-03-09T11:55:33.887180Z",
     "start_time": "2021-03-09T11:55:33.880781Z"
    }
   },
   "outputs": [
    {
     "data": {
      "text/plain": [
       "419"
      ]
     },
     "execution_count": 19,
     "metadata": {},
     "output_type": "execute_result"
    }
   ],
   "source": [
    "len(yalt_le_test)"
   ]
  },
  {
   "cell_type": "code",
   "execution_count": 18,
   "id": "computational-binding",
   "metadata": {
    "ExecuteTime": {
     "end_time": "2021-03-09T11:55:16.457053Z",
     "start_time": "2021-03-09T11:55:16.449767Z"
    }
   },
   "outputs": [
    {
     "data": {
      "text/plain": [
       "88"
      ]
     },
     "execution_count": 18,
     "metadata": {},
     "output_type": "execute_result"
    }
   ],
   "source": [
    "len(yalt_le_test[yalt_le_test==1])\n",
    "# 88 fraud / 419 providers"
   ]
  },
  {
   "cell_type": "code",
   "execution_count": 77,
   "id": "accepted-hypothesis",
   "metadata": {
    "ExecuteTime": {
     "end_time": "2021-03-09T12:36:02.881754Z",
     "start_time": "2021-03-09T12:36:02.874336Z"
    }
   },
   "outputs": [
    {
     "data": {
      "text/plain": [
       "331"
      ]
     },
     "execution_count": 77,
     "metadata": {},
     "output_type": "execute_result"
    }
   ],
   "source": [
    "419-88"
   ]
  },
  {
   "cell_type": "code",
   "execution_count": 20,
   "id": "parental-begin",
   "metadata": {
    "ExecuteTime": {
     "end_time": "2021-03-09T11:56:08.704566Z",
     "start_time": "2021-03-09T11:56:08.436107Z"
    }
   },
   "outputs": [
    {
     "data": {
      "text/plain": [
       "array([[1254,   67],\n",
       "       [ 152,  200]])"
      ]
     },
     "execution_count": 20,
     "metadata": {},
     "output_type": "execute_result"
    }
   ],
   "source": [
    "confusion_matrix(yalt_le_train, knn.predict(Xalt_le_train))"
   ]
  },
  {
   "cell_type": "code",
   "execution_count": 21,
   "id": "critical-billy",
   "metadata": {
    "ExecuteTime": {
     "end_time": "2021-03-09T11:56:11.602010Z",
     "start_time": "2021-03-09T11:56:11.526495Z"
    }
   },
   "outputs": [
    {
     "data": {
      "text/plain": [
       "array([[305,  26],\n",
       "       [ 46,  42]])"
      ]
     },
     "execution_count": 21,
     "metadata": {},
     "output_type": "execute_result"
    }
   ],
   "source": [
    "confusion_matrix(yalt_le_test, knn.predict(Xalt_le_test))"
   ]
  },
  {
   "cell_type": "markdown",
   "id": "random-premiere",
   "metadata": {},
   "source": [
    "# XGBoost Model"
   ]
  },
  {
   "cell_type": "code",
   "execution_count": 22,
   "id": "literary-carter",
   "metadata": {
    "ExecuteTime": {
     "end_time": "2021-03-09T11:57:08.876926Z",
     "start_time": "2021-03-09T11:57:07.670435Z"
    }
   },
   "outputs": [
    {
     "data": {
      "text/plain": [
       "1.0"
      ]
     },
     "execution_count": 22,
     "metadata": {},
     "output_type": "execute_result"
    }
   ],
   "source": [
    "xgbc = XGBClassifier()\n",
    "xgbc.fit(Xalt_le, yalt_le)\n",
    "xgbc.score(Xalt_le, yalt_le)"
   ]
  },
  {
   "cell_type": "code",
   "execution_count": 23,
   "id": "frank-director",
   "metadata": {
    "ExecuteTime": {
     "end_time": "2021-03-09T11:57:15.452319Z",
     "start_time": "2021-03-09T11:57:14.428440Z"
    }
   },
   "outputs": [
    {
     "name": "stdout",
     "output_type": "stream",
     "text": [
      "1.0\n",
      "0.863961813842482\n"
     ]
    }
   ],
   "source": [
    "xgbc = XGBClassifier()\n",
    "xgbc.fit(Xalt_le_train, yalt_le_train)\n",
    "print(xgbc.score(Xalt_le_train, yalt_le_train))\n",
    "print(xgbc.score(Xalt_le_test, yalt_le_test))"
   ]
  },
  {
   "cell_type": "code",
   "execution_count": 24,
   "id": "clinical-bradford",
   "metadata": {
    "ExecuteTime": {
     "end_time": "2021-03-09T11:57:37.007706Z",
     "start_time": "2021-03-09T11:57:36.943495Z"
    }
   },
   "outputs": [
    {
     "name": "stdout",
     "output_type": "stream",
     "text": [
      "Baseline Values: \n",
      "Accuracy for train data is: 1.000\n",
      "Accuracy for test data is: 0.864\n",
      "--------------------------------------------------\n"
     ]
    }
   ],
   "source": [
    "#Baseline train test Values\n",
    "train_baseline_xgb = xgbc.predict(Xalt_le_train)\n",
    "#RMSE_train = np.sqrt(mean_squared_error(yalt_le_train, train_baseline_xgb))\n",
    "\n",
    "test_baseline_xgb = xgbc.predict(Xalt_le_test)\n",
    "#RMSE_test = np.sqrt(mean_squared_error(yalt_le_test,test_baseline_xgb))\n",
    "\n",
    "print(\"Baseline Values: \")\n",
    "print(\"Accuracy for train data is: %.3f\" %(xgbc.score(Xalt_le_train, yalt_le_train)))\n",
    "print(\"Accuracy for test data is: %.3f\" %(xgbc.score(Xalt_le_test,yalt_le_test)))\n",
    "print(\"-\" * 50)\n",
    "#print(\"RMSE for train data is: %.3f\" % RMSE_train)\n",
    "#print(\"RMSE for test data is: %.3f\" % RMSE_test)"
   ]
  },
  {
   "cell_type": "code",
   "execution_count": 25,
   "id": "second-automation",
   "metadata": {
    "ExecuteTime": {
     "end_time": "2021-03-09T11:57:48.607959Z",
     "start_time": "2021-03-09T11:57:44.429512Z"
    }
   },
   "outputs": [
    {
     "data": {
      "text/plain": [
       "array([0.89976134, 0.85441527, 0.83492823, 0.83492823, 0.85167464])"
      ]
     },
     "execution_count": 25,
     "metadata": {},
     "output_type": "execute_result"
    }
   ],
   "source": [
    "strat= XGBClassifier(n_splits=5, random_state=0)\n",
    "scores = ms.cross_val_score(estimator=xgbc, X=Xalt_le, y=yalt_le, cv=5)\n",
    "scores"
   ]
  },
  {
   "cell_type": "code",
   "execution_count": 26,
   "id": "scenic-surrey",
   "metadata": {
    "ExecuteTime": {
     "end_time": "2021-03-09T11:57:52.946104Z",
     "start_time": "2021-03-09T11:57:52.915762Z"
    }
   },
   "outputs": [
    {
     "data": {
      "text/plain": [
       "array([[1321,    0],\n",
       "       [   0,  352]])"
      ]
     },
     "execution_count": 26,
     "metadata": {},
     "output_type": "execute_result"
    }
   ],
   "source": [
    "confusion_matrix(yalt_le_train, xgbc.predict(Xalt_le_train))"
   ]
  },
  {
   "cell_type": "code",
   "execution_count": 27,
   "id": "alternative-treasure",
   "metadata": {
    "ExecuteTime": {
     "end_time": "2021-03-09T11:57:55.847925Z",
     "start_time": "2021-03-09T11:57:55.830390Z"
    }
   },
   "outputs": [
    {
     "data": {
      "text/plain": [
       "array([[311,  20],\n",
       "       [ 37,  51]])"
      ]
     },
     "execution_count": 27,
     "metadata": {},
     "output_type": "execute_result"
    }
   ],
   "source": [
    "confusion_matrix(yalt_le_test, xgbc.predict(Xalt_le_test))"
   ]
  },
  {
   "cell_type": "markdown",
   "id": "allied-coach",
   "metadata": {
    "ExecuteTime": {
     "end_time": "2021-03-09T11:42:04.899279Z",
     "start_time": "2021-03-09T11:42:04.895978Z"
    }
   },
   "source": [
    "# XGBoost Random Forest Classifier"
   ]
  },
  {
   "cell_type": "code",
   "execution_count": 28,
   "id": "senior-davis",
   "metadata": {
    "ExecuteTime": {
     "end_time": "2021-03-09T11:58:29.624852Z",
     "start_time": "2021-03-09T11:58:28.854618Z"
    }
   },
   "outputs": [
    {
     "name": "stdout",
     "output_type": "stream",
     "text": [
      "0.9599521817095039\n",
      "0.8591885441527446\n"
     ]
    }
   ],
   "source": [
    "xgbrfc = XGBRFClassifier()\n",
    "xgbrfc.fit(Xalt_le_train, yalt_le_train)\n",
    "print(xgbrfc.score(Xalt_le_train, yalt_le_train))\n",
    "print(xgbrfc.score(Xalt_le_test, yalt_le_test))"
   ]
  },
  {
   "cell_type": "code",
   "execution_count": 29,
   "id": "designing-exposure",
   "metadata": {
    "ExecuteTime": {
     "end_time": "2021-03-09T11:58:32.356683Z",
     "start_time": "2021-03-09T11:58:32.338809Z"
    }
   },
   "outputs": [
    {
     "data": {
      "text/plain": [
       "array([[314,  17],\n",
       "       [ 42,  46]])"
      ]
     },
     "execution_count": 29,
     "metadata": {},
     "output_type": "execute_result"
    }
   ],
   "source": [
    "confusion_matrix(yalt_le_test, xgbrfc.predict(Xalt_le_test))"
   ]
  },
  {
   "cell_type": "markdown",
   "id": "critical-sound",
   "metadata": {},
   "source": [
    "# XGBoost Feature Selection"
   ]
  },
  {
   "cell_type": "code",
   "execution_count": 61,
   "id": "fantastic-cancer",
   "metadata": {
    "ExecuteTime": {
     "end_time": "2021-03-09T12:08:42.845840Z",
     "start_time": "2021-03-09T12:08:42.802090Z"
    }
   },
   "outputs": [
    {
     "name": "stdout",
     "output_type": "stream",
     "text": [
      "[('OtherPhysician_mode', 0.0), ('ClmDiagnosisCode_10_mode', 0.0), ('ClmProcedureCode_3_mode', 0.0), ('ClmProcedureCode_4_mode', 0.0), ('ClmProcedureCode_5_mode', 0.0), ('AdmissionDt_mean', 0.0), ('AdmissionDt_mad', 0.0), ('DOD_mode', 0.0), ('NoOfMonths_PartACov_mad', 0.0), ('ChronicCond_stroke_mad', 0.000638129), ('ChronicCond_ObstrPulmonary_mad', 0.0015676005), ('AdmitDays_mean', 0.0023648227), ('NoOfMonths_PartBCov_mad', 0.0030216924), ('ChronicCond_KidneyDisease_mean', 0.0031821486), ('ChronicCond_IschemicHeart_mad', 0.004210847), ('ChronicCond_Cancer_mad', 0.0044857124), ('Race_mad', 0.004495724), ('numProcCodes_mean', 0.004608407), ('RenalDiseaseIndicator_mad', 0.004625483), ('ChronicCond_Diabetes_mad', 0.0047768936), ('ChronicCond_rheumatoidarthritis_mad', 0.0049173227), ('numDiagCodes_mean', 0.005265366), ('Gender_mad', 0.005566652), ('ClmProcedureCode_2_mode', 0.005812922), ('ChronicCond_ObstrPulmonary_mean', 0.0058259205), ('ChronicCond_Osteoporasis_mean', 0.005875448), ('NoOfMonths_PartBCov_mean', 0.006079189), ('ChronicCond_rheumatoidarthritis_mean', 0.006329131), ('IPAnnualDeductibleAmt_mad', 0.0064803017), ('numDiagCodes_mad', 0.0068666274), ('Age_mean', 0.0070895045), ('numPhysicians_mad', 0.007151875), ('ChronicCond_IschemicHeart_mean', 0.007237559), ('ChronicCond_KidneyDisease_mad', 0.00731134), ('InscClaimAmtReimbursed_mean', 0.00733052), ('IPAnnualReimbursementAmt_mean', 0.0074025784), ('ClmDiagnosisCode_4_mode', 0.007897439), ('ChronicCond_Osteoporasis_mad', 0.007943242), ('ClmAdmitDiagnosisCode_mode', 0.008171232), ('numChronic_mean', 0.008197411), ('ChronicCond_Alzheimer_mad', 0.008220102), ('ClmDiagnosisCode_8_mode', 0.008319104), ('County_mode', 0.008639907), ('ClmDiagnosisCode_5_mode', 0.008837651), ('ClaimDuration_mean', 0.008874746), ('IPAnnualReimbursementAmt_mad', 0.009015356), ('ClmDiagnosisCode_6_mode', 0.00914923), ('numChronic_mad', 0.009244549), ('ClmDiagnosisCode_7_mode', 0.009357772), ('ClmProcedureCode_1_mode', 0.009450815), ('ChronicCond_stroke_mean', 0.0095389215), ('numProcCodes_mad', 0.009851386), ('ChronicCond_Cancer_mean', 0.009886395), ('InscClaimAmtReimbursed_mad', 0.009988818), ('Race_mean', 0.010221439), ('ClmDiagnosisCode_9_mode', 0.010279301), ('ChronicCond_Heartfailure_mean', 0.010395911), ('RenalDiseaseIndicator_mean', 0.0104362685), ('Age_mad', 0.010440137), ('AttendingPhysician_mode', 0.010484906), ('ChronicCond_Depression_mad', 0.010501847), ('IPAnnualDeductibleAmt_mean', 0.010904544), ('ClmDiagnosisCode_2_mode', 0.010938163), ('ChronicCond_Depression_mean', 0.01121899), ('ChronicCond_Alzheimer_mean', 0.011327496), ('numPhysicians_mean', 0.011451078), ('Gender_mean', 0.011940663), ('State_mode', 0.01255231), ('ChronicCond_Heartfailure_mad', 0.012570321), ('DiagnosisGroupCode_mode', 0.012609771), ('ClaimStartDt_mean', 0.013441215), ('numBene', 0.013959318), ('ChronicCond_Diabetes_mean', 0.014416548), ('ClmDiagnosisCode_1_mode', 0.014586866), ('ClmDiagnosisCode_3_mode', 0.014637324), ('OperatingPhysician_mode', 0.015082109), ('ClmProcedureCodes_uniq', 0.017248511), ('ClaimStartDt_mad', 0.017804949), ('DiagnosisGroupCode_uniq', 0.017846733), ('ClmAdmitDiagnosisCode_uniq', 0.01859588), ('ClaimDuration_mad', 0.01949288), ('ReimbPerDayAdmit_mad', 0.021651046), ('NoOfMonths_PartACov_mean', 0.025163248), ('ClmDiagnosisCodes_uniq', 0.025212457), ('ReimbPerDayAdmit_mean', 0.025730664), ('AdmitDays_mad', 0.034906633), ('numClaim', 0.041969463), ('InscClaimAmtReimbursed_sum', 0.16887721)]\n"
     ]
    }
   ],
   "source": [
    "fi=list(zip(Xalt_le_train.columns, xgbc.feature_importances_))\n",
    "fi.sort(key=lambda t: t[1])\n",
    "print(fi)\n",
    "firem = [i for i in fi if i[1]>0.01]\n",
    "# get column names only\n",
    "colnam=[t[0] for t in  firem]"
   ]
  },
  {
   "cell_type": "code",
   "execution_count": 63,
   "id": "auburn-telescope",
   "metadata": {
    "ExecuteTime": {
     "end_time": "2021-03-09T12:09:16.072752Z",
     "start_time": "2021-03-09T12:09:16.066118Z"
    }
   },
   "outputs": [
    {
     "data": {
      "text/plain": [
       "['Race_mean',\n",
       " 'ClmDiagnosisCode_9_mode',\n",
       " 'ChronicCond_Heartfailure_mean',\n",
       " 'RenalDiseaseIndicator_mean',\n",
       " 'Age_mad',\n",
       " 'AttendingPhysician_mode',\n",
       " 'ChronicCond_Depression_mad',\n",
       " 'IPAnnualDeductibleAmt_mean',\n",
       " 'ClmDiagnosisCode_2_mode',\n",
       " 'ChronicCond_Depression_mean',\n",
       " 'ChronicCond_Alzheimer_mean',\n",
       " 'numPhysicians_mean',\n",
       " 'Gender_mean',\n",
       " 'State_mode',\n",
       " 'ChronicCond_Heartfailure_mad',\n",
       " 'DiagnosisGroupCode_mode',\n",
       " 'ClaimStartDt_mean',\n",
       " 'numBene',\n",
       " 'ChronicCond_Diabetes_mean',\n",
       " 'ClmDiagnosisCode_1_mode',\n",
       " 'ClmDiagnosisCode_3_mode',\n",
       " 'OperatingPhysician_mode',\n",
       " 'ClmProcedureCodes_uniq',\n",
       " 'ClaimStartDt_mad',\n",
       " 'DiagnosisGroupCode_uniq',\n",
       " 'ClmAdmitDiagnosisCode_uniq',\n",
       " 'ClaimDuration_mad',\n",
       " 'ReimbPerDayAdmit_mad',\n",
       " 'NoOfMonths_PartACov_mean',\n",
       " 'ClmDiagnosisCodes_uniq',\n",
       " 'ReimbPerDayAdmit_mean',\n",
       " 'AdmitDays_mad',\n",
       " 'numClaim',\n",
       " 'InscClaimAmtReimbursed_sum']"
      ]
     },
     "execution_count": 63,
     "metadata": {},
     "output_type": "execute_result"
    }
   ],
   "source": [
    "colnam"
   ]
  },
  {
   "cell_type": "code",
   "execution_count": 62,
   "id": "legendary-mystery",
   "metadata": {
    "ExecuteTime": {
     "end_time": "2021-03-09T12:09:02.870490Z",
     "start_time": "2021-03-09T12:09:02.858558Z"
    }
   },
   "outputs": [
    {
     "data": {
      "text/plain": [
       "34"
      ]
     },
     "execution_count": 62,
     "metadata": {},
     "output_type": "execute_result"
    }
   ],
   "source": [
    "len(colnam)"
   ]
  },
  {
   "cell_type": "code",
   "execution_count": 54,
   "id": "thorough-cricket",
   "metadata": {
    "ExecuteTime": {
     "end_time": "2021-03-09T12:05:29.113228Z",
     "start_time": "2021-03-09T12:05:29.105182Z"
    }
   },
   "outputs": [],
   "source": [
    "# new dataframe with reduced features\n",
    "Xalt_le_train_red = Xalt_le_train[colnam]\n",
    "Xalt_le_test_red = Xalt_le_test[colnam]"
   ]
  },
  {
   "cell_type": "code",
   "execution_count": 55,
   "id": "fuzzy-hazard",
   "metadata": {
    "ExecuteTime": {
     "end_time": "2021-03-09T12:05:33.091820Z",
     "start_time": "2021-03-09T12:05:32.590406Z"
    }
   },
   "outputs": [
    {
     "name": "stdout",
     "output_type": "stream",
     "text": [
      "1.0\n",
      "0.8758949880668258\n"
     ]
    }
   ],
   "source": [
    "xgbc_red = XGBClassifier()\n",
    "xgbc_red.fit(Xalt_le_train_red, yalt_le_train)\n",
    "print(xgbc_red.score(Xalt_le_train_red, yalt_le_train))\n",
    "print(xgbc_red.score(Xalt_le_test_red, yalt_le_test))"
   ]
  },
  {
   "cell_type": "code",
   "execution_count": 56,
   "id": "cutting-output",
   "metadata": {
    "ExecuteTime": {
     "end_time": "2021-03-09T12:05:36.420121Z",
     "start_time": "2021-03-09T12:05:36.399288Z"
    }
   },
   "outputs": [
    {
     "data": {
      "text/plain": [
       "array([[316,  15],\n",
       "       [ 37,  51]])"
      ]
     },
     "execution_count": 56,
     "metadata": {},
     "output_type": "execute_result"
    }
   ],
   "source": [
    "confusion_matrix(yalt_le_test, xgbc_red.predict(Xalt_le_test_red))"
   ]
  },
  {
   "cell_type": "markdown",
   "id": "cardiac-tracy",
   "metadata": {
    "ExecuteTime": {
     "end_time": "2021-03-09T11:44:08.889977Z",
     "start_time": "2021-03-09T11:44:08.886585Z"
    }
   },
   "source": [
    "# Model Evaluation with ROC AUC"
   ]
  },
  {
   "cell_type": "code",
   "execution_count": 57,
   "id": "advisory-guatemala",
   "metadata": {
    "ExecuteTime": {
     "end_time": "2021-03-09T12:06:46.355774Z",
     "start_time": "2021-03-09T12:06:46.326426Z"
    }
   },
   "outputs": [
    {
     "name": "stdout",
     "output_type": "stream",
     "text": [
      "1.0\n",
      "0.767114117000824\n"
     ]
    }
   ],
   "source": [
    "# ROC AUC for XGBoost classifier with reduced dataset after feature selection ():\n",
    "print(roc_auc_score(yalt_le_train,xgbc_red.predict(Xalt_le_train_red)))\n",
    "print(roc_auc_score(yalt_le_test,xgbc_red.predict(Xalt_le_test_red)))"
   ]
  },
  {
   "cell_type": "code",
   "execution_count": 58,
   "id": "retained-estonia",
   "metadata": {
    "ExecuteTime": {
     "end_time": "2021-03-09T12:06:50.156705Z",
     "start_time": "2021-03-09T12:06:49.710489Z"
    },
    "scrolled": false
   },
   "outputs": [
    {
     "data": {
      "text/plain": [
       "<sklearn.metrics._plot.roc_curve.RocCurveDisplay at 0x108f7ce80>"
      ]
     },
     "execution_count": 58,
     "metadata": {},
     "output_type": "execute_result"
    },
    {
     "data": {
      "image/png": "[encoded data removed]",
      "text/plain": [
       "<Figure size 1440x576 with 1 Axes>"
      ]
     },
     "metadata": {},
     "output_type": "display_data"
    }
   ],
   "source": [
    "plot_roc_curve(xgbc_red, Xalt_le_test_red,yalt_le_test)"
   ]
  },
  {
   "cell_type": "code",
   "execution_count": 59,
   "id": "general-drove",
   "metadata": {
    "ExecuteTime": {
     "end_time": "2021-03-09T12:06:58.579206Z",
     "start_time": "2021-03-09T12:06:58.166951Z"
    }
   },
   "outputs": [
    {
     "data": {
      "image/png": "[encoded data removed]",
      "text/plain": [
       "<Figure size 1440x576 with 1 Axes>"
      ]
     },
     "metadata": {},
     "output_type": "display_data"
    }
   ],
   "source": [
    "fpr, tpr, thresholds = roc_curve(yalt_le_test, xgbc_red.predict(Xalt_le_test_red))\n",
    "roc_auc = auc(fpr, tpr)\n",
    "display = RocCurveDisplay(fpr=fpr, tpr=tpr, roc_auc=roc_auc, estimator_name='example estimator')\n",
    "display.plot()  \n",
    "plt.show()"
   ]
  },
  {
   "cell_type": "code",
   "execution_count": 60,
   "id": "intermediate-plant",
   "metadata": {
    "ExecuteTime": {
     "end_time": "2021-03-09T12:07:01.944824Z",
     "start_time": "2021-03-09T12:07:01.913946Z"
    }
   },
   "outputs": [
    {
     "name": "stdout",
     "output_type": "stream",
     "text": [
      "1.0\n",
      "0.6623376623376623\n"
     ]
    }
   ],
   "source": [
    "# F1 for XGBoost classifier with reduced dataset after feature selection (ranges from 0 to 1, perfect score is 1):\n",
    "print(f1_score(yalt_le_train,xgbc_red.predict(Xalt_le_train_red)))\n",
    "print(f1_score(yalt_le_test,xgbc_red.predict(Xalt_le_test_red)))"
   ]
  },
  {
   "cell_type": "code",
   "execution_count": null,
   "id": "pleased-entry",
   "metadata": {},
   "outputs": [],
   "source": []
  },
  {
   "cell_type": "markdown",
   "id": "exceptional-think",
   "metadata": {},
   "source": [
    "# Random Forest Classifier"
   ]
  },
  {
   "cell_type": "code",
   "execution_count": 66,
   "id": "coral-bunch",
   "metadata": {
    "ExecuteTime": {
     "end_time": "2021-03-09T12:20:55.959583Z",
     "start_time": "2021-03-09T12:20:54.955393Z"
    }
   },
   "outputs": [
    {
     "name": "stdout",
     "output_type": "stream",
     "text": [
      "1.0\n",
      "0.8424821002386634\n"
     ]
    }
   ],
   "source": [
    "rfc = RandomForestClassifier()\n",
    "rfc.fit(Xalt_le_train, yalt_le_train)\n",
    "print(rfc.score(Xalt_le_train, yalt_le_train))\n",
    "print(rfc.score(Xalt_le_test, yalt_le_test))"
   ]
  },
  {
   "cell_type": "code",
   "execution_count": 69,
   "id": "literary-defendant",
   "metadata": {
    "ExecuteTime": {
     "end_time": "2021-03-09T12:22:48.107066Z",
     "start_time": "2021-03-09T12:22:48.070690Z"
    }
   },
   "outputs": [
    {
     "data": {
      "text/plain": [
       "array([[317,  14],\n",
       "       [ 52,  36]])"
      ]
     },
     "execution_count": 69,
     "metadata": {},
     "output_type": "execute_result"
    }
   ],
   "source": [
    "confusion_matrix(yalt_le_test, rfc.predict(Xalt_le_test))"
   ]
  },
  {
   "cell_type": "markdown",
   "id": "supreme-humor",
   "metadata": {},
   "source": [
    "# Gradient Boosting Classifier"
   ]
  },
  {
   "cell_type": "code",
   "execution_count": 81,
   "id": "consolidated-roman",
   "metadata": {
    "ExecuteTime": {
     "end_time": "2021-03-09T13:04:13.990093Z",
     "start_time": "2021-03-09T13:04:11.326015Z"
    }
   },
   "outputs": [
    {
     "name": "stdout",
     "output_type": "stream",
     "text": [
      "0.9617453676031081\n",
      "0.8854415274463007\n"
     ]
    }
   ],
   "source": [
    "gbc = GradientBoostingClassifier()\n",
    "gbc.fit(Xalt_le_train, yalt_le_train)\n",
    "print(gbc.score(Xalt_le_train, yalt_le_train))\n",
    "print(gbc.score(Xalt_le_test, yalt_le_test))"
   ]
  },
  {
   "cell_type": "code",
   "execution_count": 82,
   "id": "superior-dominant",
   "metadata": {
    "ExecuteTime": {
     "end_time": "2021-03-09T13:04:17.208152Z",
     "start_time": "2021-03-09T13:04:17.190930Z"
    }
   },
   "outputs": [
    {
     "data": {
      "text/plain": [
       "array([[316,  15],\n",
       "       [ 33,  55]])"
      ]
     },
     "execution_count": 82,
     "metadata": {},
     "output_type": "execute_result"
    }
   ],
   "source": [
    "confusion_matrix(yalt_le_test, gbc.predict(Xalt_le_test))"
   ]
  },
  {
   "cell_type": "code",
   "execution_count": 83,
   "id": "split-royal",
   "metadata": {
    "ExecuteTime": {
     "end_time": "2021-03-09T13:04:20.322093Z",
     "start_time": "2021-03-09T13:04:20.293680Z"
    }
   },
   "outputs": [
    {
     "name": "stdout",
     "output_type": "stream",
     "text": [
      "0.916384582960567\n",
      "0.7898413897280967\n"
     ]
    }
   ],
   "source": [
    "# ROC AUC for GB classifier :\n",
    "print(roc_auc_score(yalt_le_train,gbc.predict(Xalt_le_train)))\n",
    "print(roc_auc_score(yalt_le_test,gbc.predict(Xalt_le_test)))"
   ]
  },
  {
   "cell_type": "code",
   "execution_count": 84,
   "id": "three-letters",
   "metadata": {
    "ExecuteTime": {
     "end_time": "2021-03-09T13:05:28.578459Z",
     "start_time": "2021-03-09T13:05:28.153803Z"
    },
    "scrolled": false
   },
   "outputs": [
    {
     "data": {
      "text/plain": [
       "<sklearn.metrics._plot.roc_curve.RocCurveDisplay at 0x11bbec850>"
      ]
     },
     "execution_count": 84,
     "metadata": {},
     "output_type": "execute_result"
    },
    {
     "data": {
      "image/png": "[encoded data removed]",
      "text/plain": [
       "<Figure size 1440x720 with 1 Axes>"
      ]
     },
     "metadata": {},
     "output_type": "display_data"
    }
   ],
   "source": [
    "plot_roc_curve(gbc, Xalt_le_test,yalt_le_test)"
   ]
  },
  {
   "cell_type": "code",
   "execution_count": 73,
   "id": "embedded-certificate",
   "metadata": {
    "ExecuteTime": {
     "end_time": "2021-03-09T12:24:45.514309Z",
     "start_time": "2021-03-09T12:24:44.296010Z"
    },
    "scrolled": true
   },
   "outputs": [
    {
     "name": "stdout",
     "output_type": "stream",
     "text": [
      "0.9503885236102809\n",
      "0.8711217183770883\n"
     ]
    }
   ],
   "source": [
    "# with reduced dataset\n",
    "gbc = GradientBoostingClassifier()\n",
    "gbc.fit(Xalt_le_train_red, yalt_le_train)\n",
    "print(gbc.score(Xalt_le_train_red, yalt_le_train))\n",
    "print(gbc.score(Xalt_le_test_red, yalt_le_test))"
   ]
  },
  {
   "cell_type": "code",
   "execution_count": 74,
   "id": "measured-macedonia",
   "metadata": {
    "ExecuteTime": {
     "end_time": "2021-03-09T12:25:00.712880Z",
     "start_time": "2021-03-09T12:25:00.691866Z"
    }
   },
   "outputs": [
    {
     "data": {
      "text/plain": [
       "array([[314,  17],\n",
       "       [ 37,  51]])"
      ]
     },
     "execution_count": 74,
     "metadata": {},
     "output_type": "execute_result"
    }
   ],
   "source": [
    "confusion_matrix(yalt_le_test, gbc.predict(Xalt_le_test_red))"
   ]
  },
  {
   "cell_type": "markdown",
   "id": "italian-quilt",
   "metadata": {},
   "source": [
    "## Gradient Boosting Classifier using PCA "
   ]
  },
  {
   "cell_type": "code",
   "execution_count": 29,
   "id": "treated-better",
   "metadata": {
    "ExecuteTime": {
     "end_time": "2021-03-10T00:03:59.149498Z",
     "start_time": "2021-03-10T00:03:58.864633Z"
    },
    "scrolled": true
   },
   "outputs": [
    {
     "name": "stdout",
     "output_type": "stream",
     "text": [
      "Explained variation per principal component: [0.15792236 0.06386414 0.05812938 0.04028418 0.02690936 0.02529868\n",
      " 0.02441725 0.02414713 0.02167647 0.01974858 0.01836625 0.01811127\n",
      " 0.01729694 0.01662362 0.01612472 0.0155087  0.01512323 0.01453097\n",
      " 0.01369036 0.01355677 0.01330772 0.01293693 0.01276076 0.01261808\n",
      " 0.01196139 0.01165054 0.01153041 0.01129727 0.01119847 0.01094575\n",
      " 0.01082444 0.01074785 0.01046444 0.01040741 0.00998925 0.00978519\n",
      " 0.00942855 0.00921615 0.00882939 0.00862806 0.00855963 0.00790366\n",
      " 0.0076943  0.00760548 0.00744665 0.00698224 0.0066831  0.00623957\n",
      " 0.00600379 0.00566926]\n"
     ]
    }
   ],
   "source": [
    "pca_3 = PCA(n_components=50)\n",
    "pca_result_3 = pca_3.fit_transform(Xalt_le)\n",
    "print('Explained variation per principal component: {}'.format(pca_3.explained_variance_ratio_))"
   ]
  },
  {
   "cell_type": "code",
   "execution_count": 30,
   "id": "connected-wrapping",
   "metadata": {
    "ExecuteTime": {
     "end_time": "2021-03-10T00:04:01.942036Z",
     "start_time": "2021-03-10T00:04:01.935157Z"
    }
   },
   "outputs": [
    {
     "data": {
      "text/plain": [
       "0.9106461149814871"
      ]
     },
     "execution_count": 30,
     "metadata": {},
     "output_type": "execute_result"
    }
   ],
   "source": [
    "sum(pca_3.explained_variance_ratio_)"
   ]
  },
  {
   "cell_type": "code",
   "execution_count": null,
   "id": "compressed-sampling",
   "metadata": {},
   "outputs": [],
   "source": [
    "# gbc = GradientBoostingClassifier()\n",
    "# gbc.fit(pca_result_3, yalt_le_train)\n",
    "# print(gbc.score(pca_result_3, yalt_le_train))\n",
    "# print(gbc.score(Xalt_le_test_red, yalt_le_test))"
   ]
  },
  {
   "cell_type": "markdown",
   "id": "atlantic-antique",
   "metadata": {},
   "source": [
    "# Support Vector Machine"
   ]
  },
  {
   "cell_type": "code",
   "execution_count": 12,
   "id": "rubber-celtic",
   "metadata": {
    "ExecuteTime": {
     "end_time": "2021-03-09T14:16:24.347852Z",
     "start_time": "2021-03-09T14:16:24.336113Z"
    }
   },
   "outputs": [
    {
     "data": {
      "text/plain": [
       "AttendingPhysician_mode                   int64\n",
       "OperatingPhysician_mode                   int64\n",
       "OtherPhysician_mode                       int64\n",
       "ClmAdmitDiagnosisCode_mode                int64\n",
       "DiagnosisGroupCode_mode                   int64\n",
       "ClmDiagnosisCode_1_mode                   int64\n",
       "ClmDiagnosisCode_2_mode                   int64\n",
       "ClmDiagnosisCode_3_mode                   int64\n",
       "ClmDiagnosisCode_4_mode                   int64\n",
       "ClmDiagnosisCode_5_mode                   int64\n",
       "ClmDiagnosisCode_6_mode                   int64\n",
       "ClmDiagnosisCode_7_mode                   int64\n",
       "ClmDiagnosisCode_8_mode                   int64\n",
       "ClmDiagnosisCode_9_mode                   int64\n",
       "ClmDiagnosisCode_10_mode                  int64\n",
       "ClmProcedureCode_1_mode                   int64\n",
       "ClmProcedureCode_2_mode                   int64\n",
       "ClmProcedureCode_3_mode                   int64\n",
       "ClmProcedureCode_4_mode                   int64\n",
       "ClmProcedureCode_5_mode                   int64\n",
       "numBene                                   int64\n",
       "numClaim                                  int64\n",
       "InscClaimAmtReimbursed_sum                int64\n",
       "InscClaimAmtReimbursed_mean             float64\n",
       "InscClaimAmtReimbursed_mad              float64\n",
       "ReimbPerDayAdmit_mean                   float64\n",
       "ReimbPerDayAdmit_mad                    float64\n",
       "ClaimStartDt_mean                       float64\n",
       "ClaimStartDt_mad                        float64\n",
       "AdmissionDt_mean                        float64\n",
       "AdmissionDt_mad                         float64\n",
       "DOD_mode                                  int64\n",
       "Gender_mean                             float64\n",
       "Gender_mad                              float64\n",
       "Race_mean                               float64\n",
       "Race_mad                                float64\n",
       "RenalDiseaseIndicator_mean              float64\n",
       "RenalDiseaseIndicator_mad               float64\n",
       "State_mode                                int64\n",
       "County_mode                               int64\n",
       "NoOfMonths_PartACov_mean                float64\n",
       "NoOfMonths_PartACov_mad                 float64\n",
       "NoOfMonths_PartBCov_mean                float64\n",
       "NoOfMonths_PartBCov_mad                 float64\n",
       "ChronicCond_Alzheimer_mean              float64\n",
       "ChronicCond_Alzheimer_mad               float64\n",
       "ChronicCond_Heartfailure_mean           float64\n",
       "ChronicCond_Heartfailure_mad            float64\n",
       "ChronicCond_KidneyDisease_mean          float64\n",
       "ChronicCond_KidneyDisease_mad           float64\n",
       "ChronicCond_Cancer_mean                 float64\n",
       "ChronicCond_Cancer_mad                  float64\n",
       "ChronicCond_ObstrPulmonary_mean         float64\n",
       "ChronicCond_ObstrPulmonary_mad          float64\n",
       "ChronicCond_Depression_mean             float64\n",
       "ChronicCond_Depression_mad              float64\n",
       "ChronicCond_Diabetes_mean               float64\n",
       "ChronicCond_Diabetes_mad                float64\n",
       "ChronicCond_IschemicHeart_mean          float64\n",
       "ChronicCond_IschemicHeart_mad           float64\n",
       "ChronicCond_Osteoporasis_mean           float64\n",
       "ChronicCond_Osteoporasis_mad            float64\n",
       "ChronicCond_rheumatoidarthritis_mean    float64\n",
       "ChronicCond_rheumatoidarthritis_mad     float64\n",
       "ChronicCond_stroke_mean                 float64\n",
       "ChronicCond_stroke_mad                  float64\n",
       "IPAnnualReimbursementAmt_mean           float64\n",
       "IPAnnualReimbursementAmt_mad            float64\n",
       "IPAnnualDeductibleAmt_mean              float64\n",
       "IPAnnualDeductibleAmt_mad               float64\n",
       "numChronic_mean                         float64\n",
       "numChronic_mad                          float64\n",
       "Age_mean                                float64\n",
       "Age_mad                                 float64\n",
       "ClaimDuration_mean                      float64\n",
       "ClaimDuration_mad                       float64\n",
       "AdmitDays_mean                          float64\n",
       "AdmitDays_mad                           float64\n",
       "numPhysicians_mean                      float64\n",
       "numPhysicians_mad                       float64\n",
       "numDiagCodes_mean                       float64\n",
       "numDiagCodes_mad                        float64\n",
       "numProcCodes_mean                       float64\n",
       "numProcCodes_mad                        float64\n",
       "ClmAdmitDiagnosisCode_uniq                int64\n",
       "DiagnosisGroupCode_uniq                   int64\n",
       "ClmDiagnosisCodes_uniq                    int64\n",
       "ClmProcedureCodes_uniq                    int64\n",
       "dtype: object"
      ]
     },
     "execution_count": 12,
     "metadata": {},
     "output_type": "execute_result"
    }
   ],
   "source": [
    "Xalt_le.dtypes"
   ]
  },
  {
   "cell_type": "code",
   "execution_count": 13,
   "id": "automotive-appreciation",
   "metadata": {
    "ExecuteTime": {
     "end_time": "2021-03-09T14:17:12.956877Z",
     "start_time": "2021-03-09T14:17:12.928525Z"
    }
   },
   "outputs": [],
   "source": [
    "from sklearn.preprocessing import StandardScaler\n",
    "\n",
    "scaler = StandardScaler()\n",
    "Xalt_le= scaler.fit_transform(Xalt_le)\n",
    "\n",
    "Xalt_le_train, Xalt_le_test, yalt_le_train, yalt_le_test = train_test_split(Xalt_le, yalt_le, test_size = 0.2, random_state = 0,stratify=yalt_le)"
   ]
  },
  {
   "cell_type": "code",
   "execution_count": 16,
   "id": "driving-cookbook",
   "metadata": {
    "ExecuteTime": {
     "end_time": "2021-03-09T14:18:58.057115Z",
     "start_time": "2021-03-09T14:18:57.506630Z"
    },
    "scrolled": true
   },
   "outputs": [
    {
     "name": "stdout",
     "output_type": "stream",
     "text": [
      "[LibSVM]1.0\n",
      "0.7923627684964201\n"
     ]
    }
   ],
   "source": [
    "\n",
    "svm_model= svm.SVC(kernel='poly', C=1e5, degree=3, verbose=4, max_iter=-1)\n",
    "svm_model.set_params(degree=3)\n",
    "svm_model.fit(Xalt_le_train, yalt_le_train)\n",
    "print(svm_model.score(Xalt_le_train, yalt_le_train))\n",
    "print(svm_model.score(Xalt_le_test, yalt_le_test))\n"
   ]
  },
  {
   "cell_type": "code",
   "execution_count": 17,
   "id": "molecular-heather",
   "metadata": {
    "ExecuteTime": {
     "end_time": "2021-03-09T14:18:59.765076Z",
     "start_time": "2021-03-09T14:18:59.719195Z"
    }
   },
   "outputs": [
    {
     "data": {
      "text/plain": [
       "array([[294,  37],\n",
       "       [ 50,  38]])"
      ]
     },
     "execution_count": 17,
     "metadata": {},
     "output_type": "execute_result"
    }
   ],
   "source": [
    "confusion_matrix(yalt_le_test, svm_model.predict(Xalt_le_test))"
   ]
  },
  {
   "cell_type": "code",
   "execution_count": null,
   "id": "selected-crack",
   "metadata": {
    "ExecuteTime": {
     "end_time": "2021-03-09T21:35:15.006521Z",
     "start_time": "2021-03-09T21:35:14.988408Z"
    }
   },
   "outputs": [],
   "source": []
  },
  {
   "cell_type": "code",
   "execution_count": null,
   "id": "applied-spelling",
   "metadata": {},
   "outputs": [],
   "source": []
  }
 ],
 "metadata": {
  "kernelspec": {
   "display_name": "Python 3",
   "language": "python",
   "name": "python3"
  },
  "language_info": {
   "codemirror_mode": {
    "name": "ipython",
    "version": 3
   },
   "file_extension": ".py",
   "mimetype": "text/x-python",
   "name": "python",
   "nbconvert_exporter": "python",
   "pygments_lexer": "ipython3",
   "version": "3.8.5"
  },
  "toc": {
   "base_numbering": 1,
   "nav_menu": {},
   "number_sections": true,
   "sideBar": true,
   "skip_h1_title": false,
   "title_cell": "Table of Contents",
   "title_sidebar": "Contents",
   "toc_cell": true,
   "toc_position": {},
   "toc_section_display": true,
   "toc_window_display": false
  },
  "varInspector": {
   "cols": {
    "lenName": 16,
    "lenType": 16,
    "lenVar": 40
   },
   "kernels_config": {
    "python": {
     "delete_cmd_postfix": "",
     "delete_cmd_prefix": "del ",
     "library": "var_list.py",
     "varRefreshCmd": "print(var_dic_list())"
    },
    "r": {
     "delete_cmd_postfix": ") ",
     "delete_cmd_prefix": "rm(",
     "library": "var_list.r",
     "varRefreshCmd": "cat(var_dic_list()) "
    }
   },
   "types_to_exclude": [
    "module",
    "function",
    "builtin_function_or_method",
    "instance",
    "_Feature"
   ],
   "window_display": false
  }
 },
 "nbformat": 4,
 "nbformat_minor": 5
}
